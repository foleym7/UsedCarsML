{
 "metadata": {
  "language_info": {
   "codemirror_mode": {
    "name": "ipython",
    "version": 3
   },
   "file_extension": ".py",
   "mimetype": "text/x-python",
   "name": "python",
   "nbconvert_exporter": "python",
   "pygments_lexer": "ipython3",
   "version": "3.9.5"
  },
  "orig_nbformat": 4,
  "kernelspec": {
   "name": "python3",
   "display_name": "Python 3.9.5 64-bit ('NCI_1': conda)"
  },
  "interpreter": {
   "hash": "7b187336c19c9e85c247d6c6e3e3cad294591fae144eb330f64124e413af1302"
  }
 },
 "nbformat": 4,
 "nbformat_minor": 2,
 "cells": [
  {
   "source": [
    "# Creating KNN Model for use car data set "
   ],
   "cell_type": "markdown",
   "metadata": {}
  },
  {
   "cell_type": "code",
   "execution_count": 17,
   "metadata": {},
   "outputs": [],
   "source": [
    "from sklearn.neighbors import KNeighborsClassifier\n",
    "import pandas as pd \n",
    "from sklearn.model_selection import train_test_split\n",
    "import mglearn"
   ]
  },
  {
   "cell_type": "code",
   "execution_count": 18,
   "metadata": {},
   "outputs": [],
   "source": [
    "%store -r X_train\n",
    "%store -r  y_train\n",
    "%store -r  X_test\n",
    "%store -r y_test\n",
    "\n"
   ]
  },
  {
   "cell_type": "code",
   "execution_count": 19,
   "metadata": {},
   "outputs": [
    {
     "output_type": "execute_result",
     "data": {
      "text/plain": [
       "59905    1.0\n",
       "27906    0.0\n",
       "10512    0.0\n",
       "20637    1.0\n",
       "24884    2.0\n",
       "        ... \n",
       "47873    0.0\n",
       "16930    0.0\n",
       "28005    2.0\n",
       "4094     2.0\n",
       "2177     3.0\n",
       "Name: condition, Length: 51716, dtype: float64"
      ]
     },
     "metadata": {},
     "execution_count": 19
    }
   ],
   "source": [
    "y_train"
   ]
  },
  {
   "cell_type": "code",
   "execution_count": 20,
   "metadata": {},
   "outputs": [],
   "source": [
    "model = KNeighborsClassifier(n_neighbors=5, weights='distance', algorithm='auto')"
   ]
  },
  {
   "cell_type": "code",
   "execution_count": 21,
   "metadata": {},
   "outputs": [
    {
     "output_type": "execute_result",
     "data": {
      "text/plain": [
       "KNeighborsClassifier(weights='distance')"
      ]
     },
     "metadata": {},
     "execution_count": 21
    }
   ],
   "source": [
    "model.fit(X_train, y_train)"
   ]
  },
  {
   "cell_type": "code",
   "execution_count": 22,
   "metadata": {},
   "outputs": [],
   "source": [
    "y_pred = model.predict(X_test)"
   ]
  },
  {
   "cell_type": "code",
   "execution_count": 28,
   "metadata": {},
   "outputs": [
    {
     "output_type": "execute_result",
     "data": {
      "text/plain": [
       "0.663568689375141"
      ]
     },
     "metadata": {},
     "execution_count": 28
    }
   ],
   "source": [
    "from sklearn.metrics import confusion_matrix, accuracy_score\n",
    "cm = confusion_matrix(y_test, y_pred)\n",
    "accuracy_score(y_test, y_pred)"
   ]
  },
  {
   "cell_type": "code",
   "execution_count": 27,
   "metadata": {},
   "outputs": [
    {
     "output_type": "execute_result",
     "data": {
      "text/plain": [
       "            Predicted 0.0  Predicted 1.0  Predicted 2.0  Predicted 3.0  \\\n",
       "Actual 0.0           6526           1018           1007            210   \n",
       "Actual 1.0           1196           3238            761             86   \n",
       "Actual 2.0           1065            734           4240            284   \n",
       "Actual 3.0            320            248            404            656   \n",
       "Actual 4.0             12              6             18             13   \n",
       "Actual 5.0              9              2             11              1   \n",
       "\n",
       "            Predicted 4.0  Predicted 5.0  \n",
       "Actual 0.0              6              4  \n",
       "Actual 1.0              5              3  \n",
       "Actual 2.0              8              5  \n",
       "Actual 3.0             16              2  \n",
       "Actual 4.0             44              3  \n",
       "Actual 5.0              0              4  "
      ],
      "text/html": "<div>\n<style scoped>\n    .dataframe tbody tr th:only-of-type {\n        vertical-align: middle;\n    }\n\n    .dataframe tbody tr th {\n        vertical-align: top;\n    }\n\n    .dataframe thead th {\n        text-align: right;\n    }\n</style>\n<table border=\"1\" class=\"dataframe\">\n  <thead>\n    <tr style=\"text-align: right;\">\n      <th></th>\n      <th>Predicted 0.0</th>\n      <th>Predicted 1.0</th>\n      <th>Predicted 2.0</th>\n      <th>Predicted 3.0</th>\n      <th>Predicted 4.0</th>\n      <th>Predicted 5.0</th>\n    </tr>\n  </thead>\n  <tbody>\n    <tr>\n      <th>Actual 0.0</th>\n      <td>6526</td>\n      <td>1018</td>\n      <td>1007</td>\n      <td>210</td>\n      <td>6</td>\n      <td>4</td>\n    </tr>\n    <tr>\n      <th>Actual 1.0</th>\n      <td>1196</td>\n      <td>3238</td>\n      <td>761</td>\n      <td>86</td>\n      <td>5</td>\n      <td>3</td>\n    </tr>\n    <tr>\n      <th>Actual 2.0</th>\n      <td>1065</td>\n      <td>734</td>\n      <td>4240</td>\n      <td>284</td>\n      <td>8</td>\n      <td>5</td>\n    </tr>\n    <tr>\n      <th>Actual 3.0</th>\n      <td>320</td>\n      <td>248</td>\n      <td>404</td>\n      <td>656</td>\n      <td>16</td>\n      <td>2</td>\n    </tr>\n    <tr>\n      <th>Actual 4.0</th>\n      <td>12</td>\n      <td>6</td>\n      <td>18</td>\n      <td>13</td>\n      <td>44</td>\n      <td>3</td>\n    </tr>\n    <tr>\n      <th>Actual 5.0</th>\n      <td>9</td>\n      <td>2</td>\n      <td>11</td>\n      <td>1</td>\n      <td>0</td>\n      <td>4</td>\n    </tr>\n  </tbody>\n</table>\n</div>"
     },
     "metadata": {},
     "execution_count": 27
    }
   ],
   "source": [
    "from sklearn.utils.multiclass import unique_labels\n",
    "labels = unique_labels(y_test)\n",
    "columns = [f'Predicted {label}' for label in labels]\n",
    "index = [f'Actual {label}' for label in labels]\n",
    "table = pd.DataFrame(cm, columns=columns, index=index)\n",
    "table "
   ]
  },
  {
   "cell_type": "code",
   "execution_count": null,
   "metadata": {},
   "outputs": [],
   "source": []
  },
  {
   "cell_type": "code",
   "execution_count": 24,
   "metadata": {},
   "outputs": [
    {
     "output_type": "execute_result",
     "data": {
      "text/plain": [
       "array([1., 1., 2., ..., 0., 2., 0.])"
      ]
     },
     "metadata": {},
     "execution_count": 24
    }
   ],
   "source": [
    "y_pred"
   ]
  },
  {
   "cell_type": "code",
   "execution_count": null,
   "metadata": {},
   "outputs": [],
   "source": []
  }
 ]
}