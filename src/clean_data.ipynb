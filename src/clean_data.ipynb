{
 "metadata": {
  "language_info": {
   "codemirror_mode": {
    "name": "ipython",
    "version": 3
   },
   "file_extension": ".py",
   "mimetype": "text/x-python",
   "name": "python",
   "nbconvert_exporter": "python",
   "pygments_lexer": "ipython3",
   "version": "3.9.5"
  },
  "orig_nbformat": 4,
  "kernelspec": {
   "name": "python3",
   "display_name": "Python 3.9.5 64-bit ('NCI_1': conda)"
  },
  "interpreter": {
   "hash": "7b187336c19c9e85c247d6c6e3e3cad294591fae144eb330f64124e413af1302"
  }
 },
 "nbformat": 4,
 "nbformat_minor": 2,
 "cells": [
  {
   "source": [
    "# Used Car Data\n",
    "## Introduction\n",
    "\n",
    "The purpose of this script is to clean the data. In doing so, all nulls will be handled and features will be imputed where possible. <br> \n",
    "\n",
    "The approach will be to split in the data into test and train intially. Allowing for the data to be imputed using KNN. Once imputed the target variables will be extracted <br> \n",
    "\n",
    "The inital raw data is too large for the purpose of the project as it enables time/performance constraints. For the purpose of the project, a sample size will be used. This will be configurable and easily altered to enable the full data set if required. "
   ],
   "cell_type": "markdown",
   "metadata": {}
  },
  {
   "cell_type": "code",
   "execution_count": 1,
   "metadata": {},
   "outputs": [],
   "source": [
    "import pandas as pd # dataframes \n",
    "import numpy as np \n",
    "import statistics as stat \n",
    "import sys # change the path for folder structure \n",
    "sys.path.append(\".\")\n",
    "from sklearn.model_selection import train_test_split\n",
    "import seaborn as sns\n",
    "sns.set_style('whitegrid')\n",
    "import matplotlib"
   ]
  },
  {
   "source": [
    "## Load the data & check the data types"
   ],
   "cell_type": "markdown",
   "metadata": {}
  },
  {
   "source": [
    "%%time\n",
    "#load data into dataframe for cleaning \n",
    "raw_data = pd.read_csv(\"../data/vehicles.csv\")\n",
    "  "
   ],
   "cell_type": "code",
   "metadata": {},
   "execution_count": 2,
   "outputs": [
    {
     "output_type": "stream",
     "name": "stdout",
     "text": [
      "CPU times: user 13.3 s, sys: 3.63 s, total: 17 s\nWall time: 17.3 s\n"
     ]
    }
   ]
  },
  {
   "source": [
    "raw_data.shape # checking the expected data has arrived"
   ],
   "cell_type": "code",
   "metadata": {},
   "execution_count": 3,
   "outputs": [
    {
     "output_type": "execute_result",
     "data": {
      "text/plain": [
       "(426880, 26)"
      ]
     },
     "metadata": {},
     "execution_count": 3
    }
   ]
  },
  {
   "source": [
    "## Taking Sample of Total \n",
    "Take a sample of the 426880 records as for the project purpose, it needs to be greater than 10k. For interations over cleaning, the performace is time consuming. <br> \n",
    "\n",
    "If required to use to the full data set, please skip the sampling cell and edit dropped columns and test and train cells. "
   ],
   "cell_type": "markdown",
   "metadata": {}
  },
  {
   "cell_type": "code",
   "execution_count": 4,
   "metadata": {},
   "outputs": [],
   "source": [
    "sample = raw_data.sample(100000, replace=True, weights=None, random_state=0)"
   ]
  },
  {
   "source": [
    "pd.set_option('display.max_columns', 20 )\n",
    "sample.head(10)"
   ],
   "cell_type": "code",
   "metadata": {},
   "execution_count": 5,
   "outputs": [
    {
     "output_type": "execute_result",
     "data": {
      "text/plain": [
       "                id                                                url  \\\n",
       "305711  7312403979  https://oklahomacity.craigslist.org/ctd/d/okla...   \n",
       "117952  7314812555  https://tampa.craigslist.org/hil/ctd/d/tampa-2...   \n",
       "152315  7310949462  https://indianapolis.craigslist.org/ctd/d/beec...   \n",
       "358083  7306635391  https://memphis.craigslist.org/ctd/d/desha-196...   \n",
       "359783  7314289506  https://nashville.craigslist.org/ctd/d/murfree...   \n",
       "304137  7305693765  https://lawton.craigslist.org/ctd/d/lawton-201...   \n",
       "122579  7315704460  https://atlanta.craigslist.org/sat/ctd/d/jones...   \n",
       "86293   7314923295  https://newhaven.craigslist.org/ctd/d/north-br...   \n",
       "374564  7316659920  https://houston.craigslist.org/ctd/d/houston-2...   \n",
       "211543  7315536299  https://duluth.craigslist.org/ctd/d/minneapoli...   \n",
       "\n",
       "                   region                           region_url  price    year  \\\n",
       "305711      oklahoma city  https://oklahomacity.craigslist.org      0  2001.0   \n",
       "117952     tampa bay area         https://tampa.craigslist.org  19988  2015.0   \n",
       "152315       indianapolis  https://indianapolis.craigslist.org   3900  2009.0   \n",
       "358083            memphis       https://memphis.craigslist.org   2200  1964.0   \n",
       "359783          nashville     https://nashville.craigslist.org   4999  2003.0   \n",
       "304137             lawton        https://lawton.craigslist.org  18590  2018.0   \n",
       "122579            atlanta       https://atlanta.craigslist.org  15995  2012.0   \n",
       "86293           new haven      https://newhaven.craigslist.org   3900  2007.0   \n",
       "374564            houston       https://houston.craigslist.org  13993  2013.0   \n",
       "211543  duluth / superior        https://duluth.craigslist.org  22995  2017.0   \n",
       "\n",
       "       manufacturer                  model  condition    cylinders  ...  \\\n",
       "305711      pontiac                montana        NaN          NaN  ...   \n",
       "117952          bmw                   428i        NaN          NaN  ...   \n",
       "152315       toyota                  yaris  excellent  4 cylinders  ...   \n",
       "358083    chevrolet                 belair        NaN          NaN  ...   \n",
       "359783       toyota                corolla  excellent  4 cylinders  ...   \n",
       "304137      hyundai     sonata se sedan 4d       good          NaN  ...   \n",
       "122579         ford   super duty f-250 srw        NaN  8 cylinders  ...   \n",
       "86293         volvo               s40 2.4i        NaN  5 cylinders  ...   \n",
       "374564       nissan             pathfinder        NaN  6 cylinders  ...   \n",
       "211543    chevrolet  silverado 1500 ls 4x4  excellent  8 cylinders  ...   \n",
       "\n",
       "             size       type paint_color  \\\n",
       "305711   mid-size   mini-van      silver   \n",
       "117952    compact      coupe        blue   \n",
       "152315  full-size  hatchback       black   \n",
       "358083        NaN        NaN         NaN   \n",
       "359783        NaN      sedan         NaN   \n",
       "304137        NaN      sedan       white   \n",
       "122579        NaN     pickup       white   \n",
       "86293         NaN      sedan       black   \n",
       "374564  full-size        SUV         red   \n",
       "211543  full-size     pickup       black   \n",
       "\n",
       "                                                image_url  \\\n",
       "305711  https://images.craigslist.org/01111_fY2vecoS7R...   \n",
       "117952  https://images.craigslist.org/00k0k_2ASDKsugnV...   \n",
       "152315  https://images.craigslist.org/01616_16pkt47nM3...   \n",
       "358083  https://images.craigslist.org/00p0p_9mdWGXH5mi...   \n",
       "359783  https://images.craigslist.org/00K0K_8R41wVDtXI...   \n",
       "304137  https://images.craigslist.org/00y0y_86Glvp84gh...   \n",
       "122579  https://images.craigslist.org/00Q0Q_5WTWjmsFKP...   \n",
       "86293   https://images.craigslist.org/00O0O_icBEHOeZ85...   \n",
       "374564  https://images.craigslist.org/00Q0Q_7vge0rihNY...   \n",
       "211543  https://images.craigslist.org/00202_lqASUsF3rd...   \n",
       "\n",
       "                                              description county state  \\\n",
       "305711  2001 PONTIAC MONTANA     Offered by: Cars-SUV'...    NaN    ok   \n",
       "117952  2015 BMW 4 Series 428i 2dr Coupe SULEV     Off...    NaN    fl   \n",
       "152315  2009 Toyota Yaris with well cared for 188K mil...    NaN    in   \n",
       "358083  1964 belair I don’t see any rust on the outsid...    NaN    tn   \n",
       "359783  2003 Toyota Corolla LE Sedan FOR FAST TEXT RES...    NaN    tn   \n",
       "304137  Carvana is the safer way to buy a car During t...    NaN    ok   \n",
       "122579  2012 *Ford* *Super Duty F-250 SRW* 4WD Crew Ca...    NaN    ga   \n",
       "86293   *** 2007 VOLVO S40 4D SEDAN 2.4i        Clean ...    NaN    ct   \n",
       "374564  Most common questions about this vehicle:  Wan...    NaN    tx   \n",
       "211543  This is the Iconic 2017 Chevrolet Silverado 15...    NaN    mn   \n",
       "\n",
       "              lat       long              posting_date  \n",
       "305711  35.414450 -97.491710  2021-04-25T12:32:59-0500  \n",
       "117952  28.015670 -82.459780  2021-04-30T11:12:05-0400  \n",
       "152315  39.721344 -86.091048  2021-04-22T14:01:03-0400  \n",
       "358083  35.749899 -91.743845  2021-04-14T09:11:03-0500  \n",
       "359783  35.839799 -86.386926  2021-04-29T09:15:52-0500  \n",
       "304137  34.600000 -98.420000  2021-04-12T11:51:22-0500  \n",
       "122579  33.552199 -84.352522  2021-05-02T09:10:24-0400  \n",
       "86293   41.332300 -72.780900  2021-04-30T14:13:03-0400  \n",
       "374564  29.890360 -95.392527  2021-05-04T08:03:30-0500  \n",
       "211543  45.064500 -93.341300  2021-05-01T17:10:56-0500  \n",
       "\n",
       "[10 rows x 26 columns]"
      ],
      "text/html": "<div>\n<style scoped>\n    .dataframe tbody tr th:only-of-type {\n        vertical-align: middle;\n    }\n\n    .dataframe tbody tr th {\n        vertical-align: top;\n    }\n\n    .dataframe thead th {\n        text-align: right;\n    }\n</style>\n<table border=\"1\" class=\"dataframe\">\n  <thead>\n    <tr style=\"text-align: right;\">\n      <th></th>\n      <th>id</th>\n      <th>url</th>\n      <th>region</th>\n      <th>region_url</th>\n      <th>price</th>\n      <th>year</th>\n      <th>manufacturer</th>\n      <th>model</th>\n      <th>condition</th>\n      <th>cylinders</th>\n      <th>...</th>\n      <th>size</th>\n      <th>type</th>\n      <th>paint_color</th>\n      <th>image_url</th>\n      <th>description</th>\n      <th>county</th>\n      <th>state</th>\n      <th>lat</th>\n      <th>long</th>\n      <th>posting_date</th>\n    </tr>\n  </thead>\n  <tbody>\n    <tr>\n      <th>305711</th>\n      <td>7312403979</td>\n      <td>https://oklahomacity.craigslist.org/ctd/d/okla...</td>\n      <td>oklahoma city</td>\n      <td>https://oklahomacity.craigslist.org</td>\n      <td>0</td>\n      <td>2001.0</td>\n      <td>pontiac</td>\n      <td>montana</td>\n      <td>NaN</td>\n      <td>NaN</td>\n      <td>...</td>\n      <td>mid-size</td>\n      <td>mini-van</td>\n      <td>silver</td>\n      <td>https://images.craigslist.org/01111_fY2vecoS7R...</td>\n      <td>2001 PONTIAC MONTANA     Offered by: Cars-SUV'...</td>\n      <td>NaN</td>\n      <td>ok</td>\n      <td>35.414450</td>\n      <td>-97.491710</td>\n      <td>2021-04-25T12:32:59-0500</td>\n    </tr>\n    <tr>\n      <th>117952</th>\n      <td>7314812555</td>\n      <td>https://tampa.craigslist.org/hil/ctd/d/tampa-2...</td>\n      <td>tampa bay area</td>\n      <td>https://tampa.craigslist.org</td>\n      <td>19988</td>\n      <td>2015.0</td>\n      <td>bmw</td>\n      <td>428i</td>\n      <td>NaN</td>\n      <td>NaN</td>\n      <td>...</td>\n      <td>compact</td>\n      <td>coupe</td>\n      <td>blue</td>\n      <td>https://images.craigslist.org/00k0k_2ASDKsugnV...</td>\n      <td>2015 BMW 4 Series 428i 2dr Coupe SULEV     Off...</td>\n      <td>NaN</td>\n      <td>fl</td>\n      <td>28.015670</td>\n      <td>-82.459780</td>\n      <td>2021-04-30T11:12:05-0400</td>\n    </tr>\n    <tr>\n      <th>152315</th>\n      <td>7310949462</td>\n      <td>https://indianapolis.craigslist.org/ctd/d/beec...</td>\n      <td>indianapolis</td>\n      <td>https://indianapolis.craigslist.org</td>\n      <td>3900</td>\n      <td>2009.0</td>\n      <td>toyota</td>\n      <td>yaris</td>\n      <td>excellent</td>\n      <td>4 cylinders</td>\n      <td>...</td>\n      <td>full-size</td>\n      <td>hatchback</td>\n      <td>black</td>\n      <td>https://images.craigslist.org/01616_16pkt47nM3...</td>\n      <td>2009 Toyota Yaris with well cared for 188K mil...</td>\n      <td>NaN</td>\n      <td>in</td>\n      <td>39.721344</td>\n      <td>-86.091048</td>\n      <td>2021-04-22T14:01:03-0400</td>\n    </tr>\n    <tr>\n      <th>358083</th>\n      <td>7306635391</td>\n      <td>https://memphis.craigslist.org/ctd/d/desha-196...</td>\n      <td>memphis</td>\n      <td>https://memphis.craigslist.org</td>\n      <td>2200</td>\n      <td>1964.0</td>\n      <td>chevrolet</td>\n      <td>belair</td>\n      <td>NaN</td>\n      <td>NaN</td>\n      <td>...</td>\n      <td>NaN</td>\n      <td>NaN</td>\n      <td>NaN</td>\n      <td>https://images.craigslist.org/00p0p_9mdWGXH5mi...</td>\n      <td>1964 belair I don’t see any rust on the outsid...</td>\n      <td>NaN</td>\n      <td>tn</td>\n      <td>35.749899</td>\n      <td>-91.743845</td>\n      <td>2021-04-14T09:11:03-0500</td>\n    </tr>\n    <tr>\n      <th>359783</th>\n      <td>7314289506</td>\n      <td>https://nashville.craigslist.org/ctd/d/murfree...</td>\n      <td>nashville</td>\n      <td>https://nashville.craigslist.org</td>\n      <td>4999</td>\n      <td>2003.0</td>\n      <td>toyota</td>\n      <td>corolla</td>\n      <td>excellent</td>\n      <td>4 cylinders</td>\n      <td>...</td>\n      <td>NaN</td>\n      <td>sedan</td>\n      <td>NaN</td>\n      <td>https://images.craigslist.org/00K0K_8R41wVDtXI...</td>\n      <td>2003 Toyota Corolla LE Sedan FOR FAST TEXT RES...</td>\n      <td>NaN</td>\n      <td>tn</td>\n      <td>35.839799</td>\n      <td>-86.386926</td>\n      <td>2021-04-29T09:15:52-0500</td>\n    </tr>\n    <tr>\n      <th>304137</th>\n      <td>7305693765</td>\n      <td>https://lawton.craigslist.org/ctd/d/lawton-201...</td>\n      <td>lawton</td>\n      <td>https://lawton.craigslist.org</td>\n      <td>18590</td>\n      <td>2018.0</td>\n      <td>hyundai</td>\n      <td>sonata se sedan 4d</td>\n      <td>good</td>\n      <td>NaN</td>\n      <td>...</td>\n      <td>NaN</td>\n      <td>sedan</td>\n      <td>white</td>\n      <td>https://images.craigslist.org/00y0y_86Glvp84gh...</td>\n      <td>Carvana is the safer way to buy a car During t...</td>\n      <td>NaN</td>\n      <td>ok</td>\n      <td>34.600000</td>\n      <td>-98.420000</td>\n      <td>2021-04-12T11:51:22-0500</td>\n    </tr>\n    <tr>\n      <th>122579</th>\n      <td>7315704460</td>\n      <td>https://atlanta.craigslist.org/sat/ctd/d/jones...</td>\n      <td>atlanta</td>\n      <td>https://atlanta.craigslist.org</td>\n      <td>15995</td>\n      <td>2012.0</td>\n      <td>ford</td>\n      <td>super duty f-250 srw</td>\n      <td>NaN</td>\n      <td>8 cylinders</td>\n      <td>...</td>\n      <td>NaN</td>\n      <td>pickup</td>\n      <td>white</td>\n      <td>https://images.craigslist.org/00Q0Q_5WTWjmsFKP...</td>\n      <td>2012 *Ford* *Super Duty F-250 SRW* 4WD Crew Ca...</td>\n      <td>NaN</td>\n      <td>ga</td>\n      <td>33.552199</td>\n      <td>-84.352522</td>\n      <td>2021-05-02T09:10:24-0400</td>\n    </tr>\n    <tr>\n      <th>86293</th>\n      <td>7314923295</td>\n      <td>https://newhaven.craigslist.org/ctd/d/north-br...</td>\n      <td>new haven</td>\n      <td>https://newhaven.craigslist.org</td>\n      <td>3900</td>\n      <td>2007.0</td>\n      <td>volvo</td>\n      <td>s40 2.4i</td>\n      <td>NaN</td>\n      <td>5 cylinders</td>\n      <td>...</td>\n      <td>NaN</td>\n      <td>sedan</td>\n      <td>black</td>\n      <td>https://images.craigslist.org/00O0O_icBEHOeZ85...</td>\n      <td>*** 2007 VOLVO S40 4D SEDAN 2.4i        Clean ...</td>\n      <td>NaN</td>\n      <td>ct</td>\n      <td>41.332300</td>\n      <td>-72.780900</td>\n      <td>2021-04-30T14:13:03-0400</td>\n    </tr>\n    <tr>\n      <th>374564</th>\n      <td>7316659920</td>\n      <td>https://houston.craigslist.org/ctd/d/houston-2...</td>\n      <td>houston</td>\n      <td>https://houston.craigslist.org</td>\n      <td>13993</td>\n      <td>2013.0</td>\n      <td>nissan</td>\n      <td>pathfinder</td>\n      <td>NaN</td>\n      <td>6 cylinders</td>\n      <td>...</td>\n      <td>full-size</td>\n      <td>SUV</td>\n      <td>red</td>\n      <td>https://images.craigslist.org/00Q0Q_7vge0rihNY...</td>\n      <td>Most common questions about this vehicle:  Wan...</td>\n      <td>NaN</td>\n      <td>tx</td>\n      <td>29.890360</td>\n      <td>-95.392527</td>\n      <td>2021-05-04T08:03:30-0500</td>\n    </tr>\n    <tr>\n      <th>211543</th>\n      <td>7315536299</td>\n      <td>https://duluth.craigslist.org/ctd/d/minneapoli...</td>\n      <td>duluth / superior</td>\n      <td>https://duluth.craigslist.org</td>\n      <td>22995</td>\n      <td>2017.0</td>\n      <td>chevrolet</td>\n      <td>silverado 1500 ls 4x4</td>\n      <td>excellent</td>\n      <td>8 cylinders</td>\n      <td>...</td>\n      <td>full-size</td>\n      <td>pickup</td>\n      <td>black</td>\n      <td>https://images.craigslist.org/00202_lqASUsF3rd...</td>\n      <td>This is the Iconic 2017 Chevrolet Silverado 15...</td>\n      <td>NaN</td>\n      <td>mn</td>\n      <td>45.064500</td>\n      <td>-93.341300</td>\n      <td>2021-05-01T17:10:56-0500</td>\n    </tr>\n  </tbody>\n</table>\n<p>10 rows × 26 columns</p>\n</div>"
     },
     "metadata": {},
     "execution_count": 5
    }
   ]
  },
  {
   "source": [
    "The data contains 26 features. <br>\n",
    "<hr>\n",
    "ID - Random ID number <br>\n",
    "url - this is the craigs list url for the ad <br>\n",
    "region - this is the region within the state of the USA <br>\n",
    "region_url - The direct url for craigs list of that region <br>\n",
    "price - The price of the vehcile on sale <br>\n",
    "year - year of the vehcile on file. <br>\n",
    "manufacturer - the manufacturer of the vehcile <br>\n",
    "model - the model of the vehcile, this is free hand entry with no consistency <br>\n",
    "condition - the condition of the vehcile <br>\n",
    "cylinders - the engine size <br>\n",
    "fuel - The type of fuel the vehcile requires <br>\n",
    "odometer - the number of miles travelled <br> \n",
    "title_status - the status of the sale. (clean, rebuilt, lien, salvage, parts only, missing) <br> \n",
    "transmission - if the vehcile is auto or manual. (contains other) <br>\n",
    "VIN - The vehcile identifier number <br> \n",
    "drive - they type of drive the vehcile is. (4wd,fwd,rwd) <dr> \n",
    "size - a description of the size of the vehcile. ( sub-compact, compact, mid-size, full-size) <br>\n",
    "type - the type of vehcile it is. (sedan, SUV , pickup, truck, other, coupe, hatchback, wagon, van, convertible, mini-van, bus, offroad) <br>\n",
    "paint color - the color of the vehcile <br> \n",
    "image url - a link to photos of the vehcile <br>\n",
    "description - personal description of the vehcile from the seller <br>\n",
    "county - the county of the sale is located <br>\n",
    "state - the state where the sale is located <br>\n",
    "lat - latatude of the location <br>\n",
    "long - longatude of the location <br>\n",
    "posting data - the date the ad was posted online \n",
    "\n",
    "\n",
    "\n"
   ],
   "cell_type": "markdown",
   "metadata": {}
  },
  {
   "cell_type": "code",
   "execution_count": null,
   "metadata": {},
   "outputs": [],
   "source": [
    "%%time\n",
    "sample.info() # get the information breakdown of the data"
   ]
  },
  {
   "source": [
    "## Dropping columns no required "
   ],
   "cell_type": "markdown",
   "metadata": {}
  },
  {
   "cell_type": "code",
   "execution_count": 6,
   "metadata": {},
   "outputs": [],
   "source": [
    "#drop all columns not required for modelling \n",
    "sample =sample.drop(columns=['id', 'url','region_url','VIN', 'county', 'lat','long', 'posting_date', 'image_url', 'description', 'model'])"
   ]
  },
  {
   "cell_type": "code",
   "execution_count": null,
   "metadata": {},
   "outputs": [],
   "source": [
    "sample.isnull().sum()"
   ]
  },
  {
   "source": [
    "## Calulate the number of NaN's per columns\n",
    "\n",
    "Creation of a dataframe that stores the caluated nulls for each of the features and % of them are nulls. "
   ],
   "cell_type": "markdown",
   "metadata": {}
  },
  {
   "cell_type": "code",
   "execution_count": 9,
   "metadata": {},
   "outputs": [
    {
     "output_type": "execute_result",
     "data": {
      "text/plain": [
       "               Null        %\n",
       "size          71830  0.71830\n",
       "cylinders     41910  0.41910\n",
       "condition     40726  0.40726\n",
       "paint_color   30884  0.30884\n",
       "drive         30713  0.30713\n",
       "type          21912  0.21912\n",
       "manufacturer   4060  0.04060\n",
       "title_status   1911  0.01911\n",
       "odometer        981  0.00981\n",
       "fuel            703  0.00703\n",
       "transmission    594  0.00594\n",
       "year            287  0.00287\n",
       "region            0  0.00000\n",
       "price             0  0.00000\n",
       "state             0  0.00000"
      ],
      "text/html": "<div>\n<style scoped>\n    .dataframe tbody tr th:only-of-type {\n        vertical-align: middle;\n    }\n\n    .dataframe tbody tr th {\n        vertical-align: top;\n    }\n\n    .dataframe thead th {\n        text-align: right;\n    }\n</style>\n<table border=\"1\" class=\"dataframe\">\n  <thead>\n    <tr style=\"text-align: right;\">\n      <th></th>\n      <th>Null</th>\n      <th>%</th>\n    </tr>\n  </thead>\n  <tbody>\n    <tr>\n      <th>size</th>\n      <td>71830</td>\n      <td>0.71830</td>\n    </tr>\n    <tr>\n      <th>cylinders</th>\n      <td>41910</td>\n      <td>0.41910</td>\n    </tr>\n    <tr>\n      <th>condition</th>\n      <td>40726</td>\n      <td>0.40726</td>\n    </tr>\n    <tr>\n      <th>paint_color</th>\n      <td>30884</td>\n      <td>0.30884</td>\n    </tr>\n    <tr>\n      <th>drive</th>\n      <td>30713</td>\n      <td>0.30713</td>\n    </tr>\n    <tr>\n      <th>type</th>\n      <td>21912</td>\n      <td>0.21912</td>\n    </tr>\n    <tr>\n      <th>manufacturer</th>\n      <td>4060</td>\n      <td>0.04060</td>\n    </tr>\n    <tr>\n      <th>title_status</th>\n      <td>1911</td>\n      <td>0.01911</td>\n    </tr>\n    <tr>\n      <th>odometer</th>\n      <td>981</td>\n      <td>0.00981</td>\n    </tr>\n    <tr>\n      <th>fuel</th>\n      <td>703</td>\n      <td>0.00703</td>\n    </tr>\n    <tr>\n      <th>transmission</th>\n      <td>594</td>\n      <td>0.00594</td>\n    </tr>\n    <tr>\n      <th>year</th>\n      <td>287</td>\n      <td>0.00287</td>\n    </tr>\n    <tr>\n      <th>region</th>\n      <td>0</td>\n      <td>0.00000</td>\n    </tr>\n    <tr>\n      <th>price</th>\n      <td>0</td>\n      <td>0.00000</td>\n    </tr>\n    <tr>\n      <th>state</th>\n      <td>0</td>\n      <td>0.00000</td>\n    </tr>\n  </tbody>\n</table>\n</div>"
     },
     "metadata": {},
     "execution_count": 9
    }
   ],
   "source": [
    "#count up the number of nullss\n",
    "\n",
    "null_review = sample.isnull().sum()\n",
    "null_review = pd.DataFrame(null_review, columns=[\"Null\"])\n",
    "total = len(sample)\n",
    "null_review['%'] = pd.DataFrame(null_review['Null']/total)\n",
    "null_review.sort_values('%',ascending=False)\n"
   ]
  },
  {
   "source": [
    "## Initial Notes\n",
    "1. The data shows a number of features that contain null values.\n",
    "2. There are a number of features that are not required for modelling"
   ],
   "cell_type": "markdown",
   "metadata": {}
  },
  {
   "source": [
    "## Removing small levels of rows that contain NaN's \n",
    "\n",
    "removing the data rows that contails very small numbers of NaNs. Anything less that 5% will remove the rows. The null data frame is recreated to confirm the data has been removed\n",
    "\n",
    "Only six features contians NaNs"
   ],
   "cell_type": "markdown",
   "metadata": {}
  },
  {
   "cell_type": "code",
   "execution_count": 10,
   "metadata": {},
   "outputs": [],
   "source": [
    "\n",
    "sample = sample.dropna(subset=['year','transmission', 'fuel', 'odometer','title_status', 'manufacturer'])\n",
    "\n"
   ]
  },
  {
   "source": [
    "# Check the value counts for all the categorical features for training data\n",
    "\n",
    "We are checking the feature for their value types and counts. (NaNs do not appear in this section)"
   ],
   "cell_type": "markdown",
   "metadata": {}
  },
  {
   "cell_type": "code",
   "execution_count": null,
   "metadata": {},
   "outputs": [],
   "source": [
    "sample['region'].value_counts()"
   ]
  },
  {
   "cell_type": "code",
   "execution_count": null,
   "metadata": {},
   "outputs": [],
   "source": [
    "# check the catigorical type of data\n",
    "sample['size'].value_counts()"
   ]
  },
  {
   "cell_type": "code",
   "execution_count": 12,
   "metadata": {},
   "outputs": [
    {
     "output_type": "execute_result",
     "data": {
      "text/plain": [
       "good         0.293837\n",
       "excellent    0.229681\n",
       "like new     0.051731\n",
       "fair         0.015340\n",
       "new          0.002764\n",
       "salvage      0.001306\n",
       "Name: condition, dtype: float64"
      ]
     },
     "metadata": {},
     "execution_count": 12
    }
   ],
   "source": [
    "sample['condition'].value_counts()/len(sample)"
   ]
  },
  {
   "cell_type": "code",
   "execution_count": null,
   "metadata": {},
   "outputs": [],
   "source": [
    "sample['drive'].value_counts()"
   ]
  },
  {
   "cell_type": "code",
   "execution_count": null,
   "metadata": {},
   "outputs": [],
   "source": [
    "sample['paint_color'].value_counts()"
   ]
  },
  {
   "cell_type": "code",
   "execution_count": null,
   "metadata": {},
   "outputs": [],
   "source": [
    "sample['type'].value_counts()"
   ]
  },
  {
   "cell_type": "code",
   "execution_count": null,
   "metadata": {},
   "outputs": [],
   "source": [
    "sample['manufacturer'].value_counts()"
   ]
  },
  {
   "cell_type": "code",
   "execution_count": null,
   "metadata": {},
   "outputs": [],
   "source": [
    "sample['title_status'].value_counts()"
   ]
  },
  {
   "cell_type": "code",
   "execution_count": null,
   "metadata": {},
   "outputs": [],
   "source": [
    "sample['region'].value_counts()"
   ]
  },
  {
   "cell_type": "code",
   "execution_count": null,
   "metadata": {},
   "outputs": [],
   "source": [
    "sample['fuel'].value_counts()"
   ]
  },
  {
   "cell_type": "code",
   "execution_count": null,
   "metadata": {},
   "outputs": [],
   "source": [
    "sample['transmission'].value_counts()"
   ]
  },
  {
   "cell_type": "code",
   "execution_count": null,
   "metadata": {},
   "outputs": [],
   "source": [
    "sample['state'].value_counts()"
   ]
  },
  {
   "source": [
    "## Notes \n",
    "1. fuel has records  classed as other. Unable to know or predict the fuel type so these row will be removed\n",
    "2. Transmission as  records classed as other. Unable to know or predict the transamission type so these rows will be removed. \n",
    "3. Type has records classed as other. \n",
    "4. parts only from title status will be removed as this will not enable the condition of a vehcile \n",
    "5. missing from title status will be removed as this will not enable the condition of a vechile "
   ],
   "cell_type": "markdown",
   "metadata": {}
  },
  {
   "source": [
    "## Removing small value types of 'other'"
   ],
   "cell_type": "markdown",
   "metadata": {}
  },
  {
   "cell_type": "code",
   "execution_count": 13,
   "metadata": {},
   "outputs": [
    {
     "output_type": "stream",
     "name": "stderr",
     "text": [
      "<ipython-input-13-59a6d29e37ef>:2: FutureWarning: Index.__or__ operating as a set operation is deprecated, in the future this will be a logical operation matching Series.__or__.  Use index.union(other) instead\n  sample = sample.drop(sample[sample['fuel']=='other'].index | sample[sample['transmission']=='other'].index | sample[sample['type']=='other'].index)\n"
     ]
    }
   ],
   "source": [
    "#removing the rows of data as per the notes above \n",
    "sample = sample.drop(sample[sample['fuel']=='other'].index | sample[sample['transmission']=='other'].index | sample[sample['type']=='other'].index)\n"
   ]
  },
  {
   "source": [
    "## Remove Parts only and missing from title status  "
   ],
   "cell_type": "markdown",
   "metadata": {}
  },
  {
   "cell_type": "code",
   "execution_count": 14,
   "metadata": {},
   "outputs": [
    {
     "output_type": "stream",
     "name": "stderr",
     "text": [
      "<ipython-input-14-24ed1bedb177>:2: FutureWarning: Index.__or__ operating as a set operation is deprecated, in the future this will be a logical operation matching Series.__or__.  Use index.union(other) instead\n  sample = sample.drop(sample[sample['title_status']=='parts only'].index | sample[sample['title_status']=='missing'].index)\n"
     ]
    }
   ],
   "source": [
    "#removing the rows of data as per the notes above \n",
    "sample = sample.drop(sample[sample['title_status']=='parts only'].index | sample[sample['title_status']=='missing'].index)"
   ]
  },
  {
   "source": [
    "# Encoding features\n",
    "Preparing each of the features for imputation using KNN.\n",
    "\n",
    "The following features will not need to be encoded as they are numeric already\n",
    "\n",
    "1. Year\n",
    "2. price\n",
    "3. Odometer\n"
   ],
   "cell_type": "markdown",
   "metadata": {}
  },
  {
   "cell_type": "code",
   "execution_count": 15,
   "metadata": {},
   "outputs": [
    {
     "output_type": "execute_result",
     "data": {
      "text/plain": [
       "['region',\n",
       " 'manufacturer',\n",
       " 'condition',\n",
       " 'cylinders',\n",
       " 'fuel',\n",
       " 'title_status',\n",
       " 'transmission',\n",
       " 'drive',\n",
       " 'size',\n",
       " 'type',\n",
       " 'paint_color',\n",
       " 'state']"
      ]
     },
     "metadata": {},
     "execution_count": 15
    }
   ],
   "source": [
    "# Using the columns names from the train data for encoding both test and train.\n",
    "cols =list(sample.columns)\n",
    "remove = ['year','price', 'odometer']\n",
    "for item in remove:\n",
    "    cols.remove(item)\n",
    "cols"
   ]
  },
  {
   "cell_type": "code",
   "execution_count": 16,
   "metadata": {},
   "outputs": [],
   "source": [
    "from sklearn.preprocessing import LabelEncoder\n",
    "from sklearn.preprocessing import OrdinalEncoder"
   ]
  },
  {
   "cell_type": "code",
   "execution_count": 17,
   "metadata": {},
   "outputs": [
    {
     "output_type": "execute_result",
     "data": {
      "text/plain": [
       "                region  price    year manufacturer  condition    cylinders  \\\n",
       "117952  tampa bay area  19988  2015.0          bmw        NaN          NaN   \n",
       "152315    indianapolis   3900  2009.0       toyota  excellent  4 cylinders   \n",
       "359783       nashville   4999  2003.0       toyota  excellent  4 cylinders   \n",
       "122579         atlanta  15995  2012.0         ford        NaN  8 cylinders   \n",
       "86293        new haven   3900  2007.0        volvo        NaN  5 cylinders   \n",
       "...                ...    ...     ...          ...        ...          ...   \n",
       "138819      twin falls  44999  2019.0         ford        NaN          NaN   \n",
       "285771   new hampshire  20995  2016.0          ram  excellent          NaN   \n",
       "382679     san antonio   3995  2004.0          gmc  excellent  8 cylinders   \n",
       "356850         memphis   6491  2011.0       nissan        NaN  4 cylinders   \n",
       "280305       rochester   7000  2009.0        honda  excellent          NaN   \n",
       "\n",
       "          fuel  odometer title_status transmission drive       size  \\\n",
       "117952     gas  105716.0        clean    automatic   NaN    compact   \n",
       "152315     gas  188697.0        clean    automatic   fwd  full-size   \n",
       "359783     gas  146000.0        clean    automatic   fwd        NaN   \n",
       "122579  diesel  339236.0        clean    automatic   4wd        NaN   \n",
       "86293      gas  154273.0        clean    automatic   4wd        NaN   \n",
       "...        ...       ...          ...          ...   ...        ...   \n",
       "138819     gas   24363.0        clean    automatic   4wd        NaN   \n",
       "285771     gas  117175.0        clean    automatic   4wd        NaN   \n",
       "382679     gas  135000.0        clean    automatic   4wd  full-size   \n",
       "356850     gas  164049.0        clean    automatic   fwd   mid-size   \n",
       "280305     gas  172000.0        clean    automatic   4wd        NaN   \n",
       "\n",
       "             type paint_color state  \n",
       "117952      coupe        blue    fl  \n",
       "152315  hatchback       black    in  \n",
       "359783      sedan         NaN    tn  \n",
       "122579     pickup       white    ga  \n",
       "86293       sedan       black    ct  \n",
       "...           ...         ...   ...  \n",
       "138819      truck       white    id  \n",
       "285771      truck         NaN    nh  \n",
       "382679        SUV         red    tx  \n",
       "356850      sedan       white    tn  \n",
       "280305        SUV       white    ny  \n",
       "\n",
       "[73881 rows x 15 columns]"
      ],
      "text/html": "<div>\n<style scoped>\n    .dataframe tbody tr th:only-of-type {\n        vertical-align: middle;\n    }\n\n    .dataframe tbody tr th {\n        vertical-align: top;\n    }\n\n    .dataframe thead th {\n        text-align: right;\n    }\n</style>\n<table border=\"1\" class=\"dataframe\">\n  <thead>\n    <tr style=\"text-align: right;\">\n      <th></th>\n      <th>region</th>\n      <th>price</th>\n      <th>year</th>\n      <th>manufacturer</th>\n      <th>condition</th>\n      <th>cylinders</th>\n      <th>fuel</th>\n      <th>odometer</th>\n      <th>title_status</th>\n      <th>transmission</th>\n      <th>drive</th>\n      <th>size</th>\n      <th>type</th>\n      <th>paint_color</th>\n      <th>state</th>\n    </tr>\n  </thead>\n  <tbody>\n    <tr>\n      <th>117952</th>\n      <td>tampa bay area</td>\n      <td>19988</td>\n      <td>2015.0</td>\n      <td>bmw</td>\n      <td>NaN</td>\n      <td>NaN</td>\n      <td>gas</td>\n      <td>105716.0</td>\n      <td>clean</td>\n      <td>automatic</td>\n      <td>NaN</td>\n      <td>compact</td>\n      <td>coupe</td>\n      <td>blue</td>\n      <td>fl</td>\n    </tr>\n    <tr>\n      <th>152315</th>\n      <td>indianapolis</td>\n      <td>3900</td>\n      <td>2009.0</td>\n      <td>toyota</td>\n      <td>excellent</td>\n      <td>4 cylinders</td>\n      <td>gas</td>\n      <td>188697.0</td>\n      <td>clean</td>\n      <td>automatic</td>\n      <td>fwd</td>\n      <td>full-size</td>\n      <td>hatchback</td>\n      <td>black</td>\n      <td>in</td>\n    </tr>\n    <tr>\n      <th>359783</th>\n      <td>nashville</td>\n      <td>4999</td>\n      <td>2003.0</td>\n      <td>toyota</td>\n      <td>excellent</td>\n      <td>4 cylinders</td>\n      <td>gas</td>\n      <td>146000.0</td>\n      <td>clean</td>\n      <td>automatic</td>\n      <td>fwd</td>\n      <td>NaN</td>\n      <td>sedan</td>\n      <td>NaN</td>\n      <td>tn</td>\n    </tr>\n    <tr>\n      <th>122579</th>\n      <td>atlanta</td>\n      <td>15995</td>\n      <td>2012.0</td>\n      <td>ford</td>\n      <td>NaN</td>\n      <td>8 cylinders</td>\n      <td>diesel</td>\n      <td>339236.0</td>\n      <td>clean</td>\n      <td>automatic</td>\n      <td>4wd</td>\n      <td>NaN</td>\n      <td>pickup</td>\n      <td>white</td>\n      <td>ga</td>\n    </tr>\n    <tr>\n      <th>86293</th>\n      <td>new haven</td>\n      <td>3900</td>\n      <td>2007.0</td>\n      <td>volvo</td>\n      <td>NaN</td>\n      <td>5 cylinders</td>\n      <td>gas</td>\n      <td>154273.0</td>\n      <td>clean</td>\n      <td>automatic</td>\n      <td>4wd</td>\n      <td>NaN</td>\n      <td>sedan</td>\n      <td>black</td>\n      <td>ct</td>\n    </tr>\n    <tr>\n      <th>...</th>\n      <td>...</td>\n      <td>...</td>\n      <td>...</td>\n      <td>...</td>\n      <td>...</td>\n      <td>...</td>\n      <td>...</td>\n      <td>...</td>\n      <td>...</td>\n      <td>...</td>\n      <td>...</td>\n      <td>...</td>\n      <td>...</td>\n      <td>...</td>\n      <td>...</td>\n    </tr>\n    <tr>\n      <th>138819</th>\n      <td>twin falls</td>\n      <td>44999</td>\n      <td>2019.0</td>\n      <td>ford</td>\n      <td>NaN</td>\n      <td>NaN</td>\n      <td>gas</td>\n      <td>24363.0</td>\n      <td>clean</td>\n      <td>automatic</td>\n      <td>4wd</td>\n      <td>NaN</td>\n      <td>truck</td>\n      <td>white</td>\n      <td>id</td>\n    </tr>\n    <tr>\n      <th>285771</th>\n      <td>new hampshire</td>\n      <td>20995</td>\n      <td>2016.0</td>\n      <td>ram</td>\n      <td>excellent</td>\n      <td>NaN</td>\n      <td>gas</td>\n      <td>117175.0</td>\n      <td>clean</td>\n      <td>automatic</td>\n      <td>4wd</td>\n      <td>NaN</td>\n      <td>truck</td>\n      <td>NaN</td>\n      <td>nh</td>\n    </tr>\n    <tr>\n      <th>382679</th>\n      <td>san antonio</td>\n      <td>3995</td>\n      <td>2004.0</td>\n      <td>gmc</td>\n      <td>excellent</td>\n      <td>8 cylinders</td>\n      <td>gas</td>\n      <td>135000.0</td>\n      <td>clean</td>\n      <td>automatic</td>\n      <td>4wd</td>\n      <td>full-size</td>\n      <td>SUV</td>\n      <td>red</td>\n      <td>tx</td>\n    </tr>\n    <tr>\n      <th>356850</th>\n      <td>memphis</td>\n      <td>6491</td>\n      <td>2011.0</td>\n      <td>nissan</td>\n      <td>NaN</td>\n      <td>4 cylinders</td>\n      <td>gas</td>\n      <td>164049.0</td>\n      <td>clean</td>\n      <td>automatic</td>\n      <td>fwd</td>\n      <td>mid-size</td>\n      <td>sedan</td>\n      <td>white</td>\n      <td>tn</td>\n    </tr>\n    <tr>\n      <th>280305</th>\n      <td>rochester</td>\n      <td>7000</td>\n      <td>2009.0</td>\n      <td>honda</td>\n      <td>excellent</td>\n      <td>NaN</td>\n      <td>gas</td>\n      <td>172000.0</td>\n      <td>clean</td>\n      <td>automatic</td>\n      <td>4wd</td>\n      <td>NaN</td>\n      <td>SUV</td>\n      <td>white</td>\n      <td>ny</td>\n    </tr>\n  </tbody>\n</table>\n<p>73881 rows × 15 columns</p>\n</div>"
     },
     "metadata": {},
     "execution_count": 17
    }
   ],
   "source": [
    "sample"
   ]
  },
  {
   "source": [
    "## Encode sample data \n"
   ],
   "cell_type": "markdown",
   "metadata": {}
  },
  {
   "cell_type": "code",
   "execution_count": 18,
   "metadata": {},
   "outputs": [
    {
     "output_type": "stream",
     "name": "stdout",
     "text": [
      "CPU times: user 230 ms, sys: 20.8 ms, total: 251 ms\nWall time: 250 ms\n"
     ]
    }
   ],
   "source": [
    "%%time\n",
    "#created a dict to hold the encoders for each column\n",
    "encoder_dict = {}\n",
    "\n",
    "#loop through the dataframe and extract non-null, encode them and place them back. \n",
    "for name in cols:\n",
    "    #encoder for the column\n",
    "    encoder_dict[name] = OrdinalEncoder()\n",
    "    \n",
    "    #select no nulls \n",
    "    col = sample[name]\n",
    "    col_notnull = col[col.notnull()]\n",
    "    reshape = col_notnull.values.reshape(-1,1)\n",
    "\n",
    "    #encode non-nills \n",
    "    encoded_vals = encoder_dict[name].fit_transform(reshape)\n",
    "    sample.loc[col.notnull(), name] = np.squeeze(encoded_vals)"
   ]
  },
  {
   "source": [
    "# Impute NaNs using KNN "
   ],
   "cell_type": "markdown",
   "metadata": {}
  },
  {
   "source": [
    "# Impute Data"
   ],
   "cell_type": "markdown",
   "metadata": {}
  },
  {
   "cell_type": "code",
   "execution_count": 19,
   "metadata": {},
   "outputs": [
    {
     "output_type": "stream",
     "name": "stdout",
     "text": [
      "CPU times: user 90.9 ms, sys: 32.2 ms, total: 123 ms\nWall time: 143 ms\n"
     ]
    },
    {
     "output_type": "execute_result",
     "data": {
      "text/plain": [
       "KNNImputer()"
      ]
     },
     "metadata": {},
     "execution_count": 19
    }
   ],
   "source": [
    "%%time\n",
    "from sklearn.impute import KNNImputer\n",
    "imputer = KNNImputer(n_neighbors=5)\n",
    "imputer.fit(sample)\n"
   ]
  },
  {
   "cell_type": "code",
   "execution_count": 20,
   "metadata": {},
   "outputs": [
    {
     "output_type": "stream",
     "name": "stdout",
     "text": [
      "CPU times: user 7min 7s, sys: 1min 40s, total: 8min 47s\nWall time: 6min 24s\n"
     ]
    }
   ],
   "source": [
    "%%time\n",
    "impute_sample = imputer.transform(sample)\n",
    "sample_df = pd.DataFrame(data = impute_sample, columns= sample.columns)"
   ]
  },
  {
   "cell_type": "code",
   "execution_count": 21,
   "metadata": {},
   "outputs": [
    {
     "output_type": "execute_result",
     "data": {
      "text/plain": [
       "0"
      ]
     },
     "metadata": {},
     "execution_count": 21
    }
   ],
   "source": [
    "sample_df.isnull().any().sum()\n"
   ]
  },
  {
   "source": [
    "## Split into dependant and target datasets \n"
   ],
   "cell_type": "markdown",
   "metadata": {}
  },
  {
   "cell_type": "code",
   "execution_count": 22,
   "metadata": {},
   "outputs": [],
   "source": [
    "X = sample_df\n",
    "y= sample_df['condition']\n",
    "del X['condition']"
   ]
  },
  {
   "cell_type": "code",
   "execution_count": 23,
   "metadata": {},
   "outputs": [],
   "source": [
    "X_train , X_test, y_train, y_test = train_test_split(X,y, test_size=0.3, random_state=12345 )"
   ]
  },
  {
   "source": [
    "## Can be used to undo the encoding "
   ],
   "cell_type": "markdown",
   "metadata": {}
  },
  {
   "cell_type": "code",
   "execution_count": null,
   "metadata": {},
   "outputs": [],
   "source": [
    "# Loop the data and reverse the encoding to create the orginal but imputed dataframe. \n",
    "for col in cols:\n",
    "    #encoder for the columns\n",
    "    reshape_col = df[col].values.reshape(-1,1)\n",
    "    df[col] = encoder_dict[col].inverse_transform(reshape_col)"
   ]
  },
  {
   "cell_type": "code",
   "execution_count": null,
   "metadata": {},
   "outputs": [],
   "source": [
    "%store X_train\n",
    "%store y_train\n",
    "%store X_test\n",
    "%store y_test\n"
   ]
  },
  {
   "cell_type": "code",
   "execution_count": null,
   "metadata": {},
   "outputs": [],
   "source": []
  },
  {
   "cell_type": "code",
   "execution_count": null,
   "metadata": {},
   "outputs": [],
   "source": []
  }
 ]
}