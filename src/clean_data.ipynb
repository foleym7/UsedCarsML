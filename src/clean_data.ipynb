{
 "metadata": {
  "language_info": {
   "codemirror_mode": {
    "name": "ipython",
    "version": 3
   },
   "file_extension": ".py",
   "mimetype": "text/x-python",
   "name": "python",
   "nbconvert_exporter": "python",
   "pygments_lexer": "ipython3",
   "version": "3.9.5"
  },
  "orig_nbformat": 4,
  "kernelspec": {
   "name": "python3",
   "display_name": "Python 3.9.5 64-bit ('NCI_1': conda)"
  },
  "interpreter": {
   "hash": "7b187336c19c9e85c247d6c6e3e3cad294591fae144eb330f64124e413af1302"
  }
 },
 "nbformat": 4,
 "nbformat_minor": 2,
 "cells": [
  {
   "source": [
    "# Clean Used Car Data"
   ],
   "cell_type": "markdown",
   "metadata": {}
  },
  {
   "cell_type": "code",
   "execution_count": 1,
   "metadata": {},
   "outputs": [],
   "source": [
    "import pandas as pd \n",
    "import numpy as np \n",
    "import statistics as stat \n",
    "import sys\n",
    "sys.path.append(\".\")\n",
    "import logging as logger"
   ]
  },
  {
   "source": [
    "## Load the data & check the data types"
   ],
   "cell_type": "markdown",
   "metadata": {}
  },
  {
   "source": [
    "#load data into dataframe for cleaning \n",
    "\n",
    "raw_data = pd.read_csv(\"../data/vehicles.csv\")\n",
    "  "
   ],
   "cell_type": "code",
   "metadata": {},
   "execution_count": 2,
   "outputs": []
  },
  {
   "source": [
    "raw_data.shape # checking the expected data has arrived"
   ],
   "cell_type": "markdown",
   "metadata": {}
  },
  {
   "cell_type": "code",
   "execution_count": null,
   "metadata": {},
   "outputs": [],
   "source": [
    "raw_data.head(10)"
   ]
  },
  {
   "cell_type": "code",
   "execution_count": 30,
   "metadata": {},
   "outputs": [
    {
     "output_type": "stream",
     "name": "stdout",
     "text": [
      "<class 'pandas.core.frame.DataFrame'>\nRangeIndex: 426880 entries, 0 to 426879\nData columns (total 26 columns):\n #   Column        Non-Null Count   Dtype  \n---  ------        --------------   -----  \n 0   id            426880 non-null  int64  \n 1   url           426880 non-null  object \n 2   region        426880 non-null  object \n 3   region_url    426880 non-null  object \n 4   price         426880 non-null  int64  \n 5   year          425675 non-null  float64\n 6   manufacturer  409234 non-null  object \n 7   model         421603 non-null  object \n 8   condition     252776 non-null  object \n 9   cylinders     249202 non-null  object \n 10  fuel          423867 non-null  object \n 11  odometer      422480 non-null  float64\n 12  title_status  418638 non-null  object \n 13  transmission  424324 non-null  object \n 14  VIN           265838 non-null  object \n 15  drive         296313 non-null  object \n 16  size          120519 non-null  object \n 17  type          334022 non-null  object \n 18  paint_color   296677 non-null  object \n 19  image_url     426812 non-null  object \n 20  description   426810 non-null  object \n 21  county        0 non-null       float64\n 22  state         426880 non-null  object \n 23  lat           420331 non-null  float64\n 24  long          420331 non-null  float64\n 25  posting_date  426812 non-null  object \ndtypes: float64(5), int64(2), object(19)\nmemory usage: 84.7+ MB\nCPU times: user 232 ms, sys: 40.2 ms, total: 272 ms\nWall time: 298 ms\n"
     ]
    }
   ],
   "source": [
    "%%time\n",
    "raw_data.info() # get the information breakdown of the data"
   ]
  },
  {
   "source": [
    "## Initial Notes\n",
    "1. The data shows a number of features that contain null values.\n",
    "2. There are a number of features that are not required for modelling"
   ],
   "cell_type": "markdown",
   "metadata": {}
  },
  {
   "source": [
    "## Dropping columns no required "
   ],
   "cell_type": "markdown",
   "metadata": {}
  },
  {
   "cell_type": "code",
   "execution_count": 4,
   "metadata": {},
   "outputs": [],
   "source": [
    "#drop all columns not required for modelling \n",
    "data_1 = raw_data.drop(columns=['id', 'url','region_url','VIN', 'county', 'lat','long', 'posting_date', 'image_url', 'description', 'model'])"
   ]
  },
  {
   "source": [
    "## Calulate the number of NaN's per columns"
   ],
   "cell_type": "markdown",
   "metadata": {}
  },
  {
   "cell_type": "code",
   "execution_count": 5,
   "metadata": {},
   "outputs": [
    {
     "output_type": "execute_result",
     "data": {
      "text/plain": [
       "                Null         %\n",
       "size          306361  0.717675\n",
       "cylinders     177678  0.416225\n",
       "condition     174104  0.407852\n",
       "drive         130567  0.305863\n",
       "paint_color   130203  0.305011\n",
       "type           92858  0.217527\n",
       "manufacturer   17646  0.041337\n",
       "title_status    8242  0.019308\n",
       "odometer        4400  0.010307\n",
       "fuel            3013  0.007058\n",
       "transmission    2556  0.005988\n",
       "year            1205  0.002823\n",
       "region             0  0.000000\n",
       "price              0  0.000000\n",
       "state              0  0.000000"
      ],
      "text/html": "<div>\n<style scoped>\n    .dataframe tbody tr th:only-of-type {\n        vertical-align: middle;\n    }\n\n    .dataframe tbody tr th {\n        vertical-align: top;\n    }\n\n    .dataframe thead th {\n        text-align: right;\n    }\n</style>\n<table border=\"1\" class=\"dataframe\">\n  <thead>\n    <tr style=\"text-align: right;\">\n      <th></th>\n      <th>Null</th>\n      <th>%</th>\n    </tr>\n  </thead>\n  <tbody>\n    <tr>\n      <th>size</th>\n      <td>306361</td>\n      <td>0.717675</td>\n    </tr>\n    <tr>\n      <th>cylinders</th>\n      <td>177678</td>\n      <td>0.416225</td>\n    </tr>\n    <tr>\n      <th>condition</th>\n      <td>174104</td>\n      <td>0.407852</td>\n    </tr>\n    <tr>\n      <th>drive</th>\n      <td>130567</td>\n      <td>0.305863</td>\n    </tr>\n    <tr>\n      <th>paint_color</th>\n      <td>130203</td>\n      <td>0.305011</td>\n    </tr>\n    <tr>\n      <th>type</th>\n      <td>92858</td>\n      <td>0.217527</td>\n    </tr>\n    <tr>\n      <th>manufacturer</th>\n      <td>17646</td>\n      <td>0.041337</td>\n    </tr>\n    <tr>\n      <th>title_status</th>\n      <td>8242</td>\n      <td>0.019308</td>\n    </tr>\n    <tr>\n      <th>odometer</th>\n      <td>4400</td>\n      <td>0.010307</td>\n    </tr>\n    <tr>\n      <th>fuel</th>\n      <td>3013</td>\n      <td>0.007058</td>\n    </tr>\n    <tr>\n      <th>transmission</th>\n      <td>2556</td>\n      <td>0.005988</td>\n    </tr>\n    <tr>\n      <th>year</th>\n      <td>1205</td>\n      <td>0.002823</td>\n    </tr>\n    <tr>\n      <th>region</th>\n      <td>0</td>\n      <td>0.000000</td>\n    </tr>\n    <tr>\n      <th>price</th>\n      <td>0</td>\n      <td>0.000000</td>\n    </tr>\n    <tr>\n      <th>state</th>\n      <td>0</td>\n      <td>0.000000</td>\n    </tr>\n  </tbody>\n</table>\n</div>"
     },
     "metadata": {},
     "execution_count": 5
    }
   ],
   "source": [
    "#count up the number of nulls \n",
    "\n",
    "null_check = data_1.isnull().sum()\n",
    "null_check = pd.DataFrame(null_check, columns=[\"Null\"])\n",
    "total = len(raw_data)\n",
    "null_check['%'] = pd.DataFrame(null_check['Null']/total)\n",
    "null_check.sort_values('%',ascending=False)\n"
   ]
  },
  {
   "source": [
    "## Removing small levels of rows that contain NaN's "
   ],
   "cell_type": "markdown",
   "metadata": {}
  },
  {
   "cell_type": "code",
   "execution_count": 6,
   "metadata": {},
   "outputs": [
    {
     "output_type": "execute_result",
     "data": {
      "text/plain": [
       "                Null         %\n",
       "size          291457  0.682761\n",
       "cylinders     171613  0.402017\n",
       "condition     165412  0.387491\n",
       "drive         124179  0.290899\n",
       "paint_color   121109  0.283707\n",
       "type           91027  0.213238\n",
       "manufacturer   15991  0.037460\n",
       "region             0  0.000000\n",
       "price              0  0.000000\n",
       "year               0  0.000000\n",
       "fuel               0  0.000000\n",
       "odometer           0  0.000000\n",
       "title_status       0  0.000000\n",
       "transmission       0  0.000000\n",
       "state              0  0.000000"
      ],
      "text/html": "<div>\n<style scoped>\n    .dataframe tbody tr th:only-of-type {\n        vertical-align: middle;\n    }\n\n    .dataframe tbody tr th {\n        vertical-align: top;\n    }\n\n    .dataframe thead th {\n        text-align: right;\n    }\n</style>\n<table border=\"1\" class=\"dataframe\">\n  <thead>\n    <tr style=\"text-align: right;\">\n      <th></th>\n      <th>Null</th>\n      <th>%</th>\n    </tr>\n  </thead>\n  <tbody>\n    <tr>\n      <th>size</th>\n      <td>291457</td>\n      <td>0.682761</td>\n    </tr>\n    <tr>\n      <th>cylinders</th>\n      <td>171613</td>\n      <td>0.402017</td>\n    </tr>\n    <tr>\n      <th>condition</th>\n      <td>165412</td>\n      <td>0.387491</td>\n    </tr>\n    <tr>\n      <th>drive</th>\n      <td>124179</td>\n      <td>0.290899</td>\n    </tr>\n    <tr>\n      <th>paint_color</th>\n      <td>121109</td>\n      <td>0.283707</td>\n    </tr>\n    <tr>\n      <th>type</th>\n      <td>91027</td>\n      <td>0.213238</td>\n    </tr>\n    <tr>\n      <th>manufacturer</th>\n      <td>15991</td>\n      <td>0.037460</td>\n    </tr>\n    <tr>\n      <th>region</th>\n      <td>0</td>\n      <td>0.000000</td>\n    </tr>\n    <tr>\n      <th>price</th>\n      <td>0</td>\n      <td>0.000000</td>\n    </tr>\n    <tr>\n      <th>year</th>\n      <td>0</td>\n      <td>0.000000</td>\n    </tr>\n    <tr>\n      <th>fuel</th>\n      <td>0</td>\n      <td>0.000000</td>\n    </tr>\n    <tr>\n      <th>odometer</th>\n      <td>0</td>\n      <td>0.000000</td>\n    </tr>\n    <tr>\n      <th>title_status</th>\n      <td>0</td>\n      <td>0.000000</td>\n    </tr>\n    <tr>\n      <th>transmission</th>\n      <td>0</td>\n      <td>0.000000</td>\n    </tr>\n    <tr>\n      <th>state</th>\n      <td>0</td>\n      <td>0.000000</td>\n    </tr>\n  </tbody>\n</table>\n</div>"
     },
     "metadata": {},
     "execution_count": 6
    }
   ],
   "source": [
    "#removing the rows that are missing <= 10% of the over data \n",
    "data_2 = data_1.dropna(subset=['year','transmission', 'fuel', 'odometer','title_status'])\n",
    "null_check_2 = data_2.isnull().sum()\n",
    "null_check_2 = pd.DataFrame(null_check_2, columns=[\"Null\"])\n",
    "total = len(raw_data)\n",
    "null_check_2['%'] = pd.DataFrame(null_check_2['Null']/total)\n",
    "null_check_2.sort_values('%',ascending=False)"
   ]
  },
  {
   "source": [
    "# Check the value counts for all the categorical features"
   ],
   "cell_type": "markdown",
   "metadata": {}
  },
  {
   "cell_type": "code",
   "execution_count": 7,
   "metadata": {},
   "outputs": [
    {
     "output_type": "execute_result",
     "data": {
      "text/plain": [
       "full-size      62884\n",
       "mid-size       34332\n",
       "compact        19018\n",
       "sub-compact     3051\n",
       "Name: size, dtype: int64"
      ]
     },
     "metadata": {},
     "execution_count": 7
    }
   ],
   "source": [
    "# check the catigorical type of data\n",
    "data_2['size'].value_counts()"
   ]
  },
  {
   "cell_type": "code",
   "execution_count": 8,
   "metadata": {},
   "outputs": [
    {
     "output_type": "execute_result",
     "data": {
      "text/plain": [
       "good         121121\n",
       "excellent     94362\n",
       "like new      21178\n",
       "fair           6769\n",
       "new            1299\n",
       "salvage         601\n",
       "Name: condition, dtype: int64"
      ]
     },
     "metadata": {},
     "execution_count": 8
    }
   ],
   "source": [
    "data_2['condition'].value_counts()"
   ]
  },
  {
   "cell_type": "code",
   "execution_count": 9,
   "metadata": {},
   "outputs": [
    {
     "output_type": "execute_result",
     "data": {
      "text/plain": [
       "4wd    126624\n",
       "fwd    102445\n",
       "rwd     57494\n",
       "Name: drive, dtype: int64"
      ]
     },
     "metadata": {},
     "execution_count": 9
    }
   ],
   "source": [
    "data_2['drive'].value_counts()"
   ]
  },
  {
   "cell_type": "code",
   "execution_count": 10,
   "metadata": {},
   "outputs": [
    {
     "output_type": "execute_result",
     "data": {
      "text/plain": [
       "white     77258\n",
       "black     61283\n",
       "silver    41966\n",
       "blue      30576\n",
       "red       29842\n",
       "grey      23770\n",
       "green      7253\n",
       "custom     6507\n",
       "brown      6498\n",
       "yellow     2068\n",
       "orange     1935\n",
       "purple      677\n",
       "Name: paint_color, dtype: int64"
      ]
     },
     "metadata": {},
     "execution_count": 10
    }
   ],
   "source": [
    "data_2['paint_color'].value_counts()"
   ]
  },
  {
   "cell_type": "code",
   "execution_count": 11,
   "metadata": {},
   "outputs": [
    {
     "output_type": "execute_result",
     "data": {
      "text/plain": [
       "sedan          83359\n",
       "SUV            73062\n",
       "pickup         41961\n",
       "truck          34142\n",
       "other          20885\n",
       "coupe          18653\n",
       "hatchback      16199\n",
       "wagon          10312\n",
       "van             7775\n",
       "convertible     7529\n",
       "mini-van        4712\n",
       "offroad          609\n",
       "bus              517\n",
       "Name: type, dtype: int64"
      ]
     },
     "metadata": {},
     "execution_count": 11
    }
   ],
   "source": [
    "data_2['type'].value_counts()"
   ]
  },
  {
   "cell_type": "code",
   "execution_count": 12,
   "metadata": {},
   "outputs": [
    {
     "output_type": "execute_result",
     "data": {
      "text/plain": [
       "ford               68527\n",
       "chevrolet          53239\n",
       "toyota             32767\n",
       "honda              20521\n",
       "jeep               18290\n",
       "nissan             18170\n",
       "ram                17722\n",
       "gmc                16150\n",
       "bmw                14339\n",
       "dodge              13130\n",
       "mercedes-benz      11316\n",
       "hyundai             9931\n",
       "subaru              9197\n",
       "volkswagen          9111\n",
       "kia                 8162\n",
       "lexus               7957\n",
       "audi                7363\n",
       "cadillac            6628\n",
       "acura               5837\n",
       "chrysler            5749\n",
       "buick               5345\n",
       "mazda               5229\n",
       "infiniti            4708\n",
       "lincoln             4065\n",
       "volvo               3317\n",
       "mitsubishi          3111\n",
       "mini                2302\n",
       "pontiac             2235\n",
       "rover               2028\n",
       "jaguar              1917\n",
       "porsche             1327\n",
       "mercury             1164\n",
       "saturn              1064\n",
       "alfa-romeo           887\n",
       "tesla                834\n",
       "fiat                 773\n",
       "harley-davidson      135\n",
       "ferrari               93\n",
       "datsun                63\n",
       "aston-martin          24\n",
       "land rover            21\n",
       "morgan                 3\n",
       "Name: manufacturer, dtype: int64"
      ]
     },
     "metadata": {},
     "execution_count": 12
    }
   ],
   "source": [
    "data_2['manufacturer'].value_counts()"
   ]
  },
  {
   "cell_type": "code",
   "execution_count": 45,
   "metadata": {},
   "outputs": [
    {
     "output_type": "execute_result",
     "data": {
      "text/plain": [
       "clean         397362\n",
       "rebuilt         7083\n",
       "salvage         3863\n",
       "lien            1422\n",
       "missing          814\n",
       "parts only       198\n",
       "Name: title_status, dtype: int64"
      ]
     },
     "metadata": {},
     "execution_count": 45
    }
   ],
   "source": [
    "data_2['title_status'].value_counts()"
   ]
  },
  {
   "cell_type": "code",
   "execution_count": null,
   "metadata": {},
   "outputs": [],
   "source": [
    "data_2['region'].value_counts()"
   ]
  },
  {
   "cell_type": "code",
   "execution_count": null,
   "metadata": {},
   "outputs": [],
   "source": [
    "data_2['fuel'].value_counts()"
   ]
  },
  {
   "cell_type": "code",
   "execution_count": null,
   "metadata": {},
   "outputs": [],
   "source": [
    "data_2['transmission'].value_counts()"
   ]
  },
  {
   "cell_type": "code",
   "execution_count": null,
   "metadata": {},
   "outputs": [],
   "source": [
    "data_2['state'].value_counts()"
   ]
  },
  {
   "source": [
    "## Notes \n",
    "1. fuel has 30k records  classed as other. Unable to know or predict the fuel type so these row will be removed\n",
    "2. Transmission as ~62k records classed as other. Unable to know or predict the transamission type so these rows will be removed. \n",
    "3. in the feature title status, the field is used to highlight if the item being sold is "
   ],
   "cell_type": "markdown",
   "metadata": {}
  },
  {
   "cell_type": "code",
   "execution_count": 13,
   "metadata": {},
   "outputs": [],
   "source": [
    "#removing the rows of data as per the notes above \n",
    "data_3 = data_2[data_2['fuel'] != 'other']\n",
    "data_3 = data_2[data_2['transmission'] != 'other']"
   ]
  },
  {
   "cell_type": "code",
   "execution_count": 14,
   "metadata": {},
   "outputs": [
    {
     "output_type": "execute_result",
     "data": {
      "text/plain": [
       "                Null         %\n",
       "size          230811  0.540693\n",
       "condition     161632  0.378636\n",
       "cylinders     135622  0.317705\n",
       "paint_color   108778  0.254821\n",
       "drive          97932  0.229413\n",
       "type           89538  0.209750\n",
       "manufacturer   13570  0.031789\n",
       "region             0  0.000000\n",
       "price              0  0.000000\n",
       "year               0  0.000000\n",
       "fuel               0  0.000000\n",
       "odometer           0  0.000000\n",
       "title_status       0  0.000000\n",
       "transmission       0  0.000000\n",
       "state              0  0.000000"
      ],
      "text/html": "<div>\n<style scoped>\n    .dataframe tbody tr th:only-of-type {\n        vertical-align: middle;\n    }\n\n    .dataframe tbody tr th {\n        vertical-align: top;\n    }\n\n    .dataframe thead th {\n        text-align: right;\n    }\n</style>\n<table border=\"1\" class=\"dataframe\">\n  <thead>\n    <tr style=\"text-align: right;\">\n      <th></th>\n      <th>Null</th>\n      <th>%</th>\n    </tr>\n  </thead>\n  <tbody>\n    <tr>\n      <th>size</th>\n      <td>230811</td>\n      <td>0.540693</td>\n    </tr>\n    <tr>\n      <th>condition</th>\n      <td>161632</td>\n      <td>0.378636</td>\n    </tr>\n    <tr>\n      <th>cylinders</th>\n      <td>135622</td>\n      <td>0.317705</td>\n    </tr>\n    <tr>\n      <th>paint_color</th>\n      <td>108778</td>\n      <td>0.254821</td>\n    </tr>\n    <tr>\n      <th>drive</th>\n      <td>97932</td>\n      <td>0.229413</td>\n    </tr>\n    <tr>\n      <th>type</th>\n      <td>89538</td>\n      <td>0.209750</td>\n    </tr>\n    <tr>\n      <th>manufacturer</th>\n      <td>13570</td>\n      <td>0.031789</td>\n    </tr>\n    <tr>\n      <th>region</th>\n      <td>0</td>\n      <td>0.000000</td>\n    </tr>\n    <tr>\n      <th>price</th>\n      <td>0</td>\n      <td>0.000000</td>\n    </tr>\n    <tr>\n      <th>year</th>\n      <td>0</td>\n      <td>0.000000</td>\n    </tr>\n    <tr>\n      <th>fuel</th>\n      <td>0</td>\n      <td>0.000000</td>\n    </tr>\n    <tr>\n      <th>odometer</th>\n      <td>0</td>\n      <td>0.000000</td>\n    </tr>\n    <tr>\n      <th>title_status</th>\n      <td>0</td>\n      <td>0.000000</td>\n    </tr>\n    <tr>\n      <th>transmission</th>\n      <td>0</td>\n      <td>0.000000</td>\n    </tr>\n    <tr>\n      <th>state</th>\n      <td>0</td>\n      <td>0.000000</td>\n    </tr>\n  </tbody>\n</table>\n</div>"
     },
     "metadata": {},
     "execution_count": 14
    }
   ],
   "source": [
    "null_check_3 = data_3.isnull().sum()\n",
    "null_check_3 = pd.DataFrame(null_check_3, columns=[\"Null\"])\n",
    "total = len(raw_data)\n",
    "null_check_3['%'] = pd.DataFrame(null_check_3['Null']/total)\n",
    "null_check_3.sort_values('%',ascending=False)\n"
   ]
  },
  {
   "source": [
    "## Encoding Condition features\n",
    "Preparing each of the features for imputation using KNN.\n",
    "Each feature will require its NaNs rows removed to a seperate dataframe. These will be merged back once the feature is encoded. \n"
   ],
   "cell_type": "markdown",
   "metadata": {}
  },
  {
   "cell_type": "code",
   "execution_count": 15,
   "metadata": {},
   "outputs": [],
   "source": [
    "## seperated the data into two dataframes. One contain all rows with no nan and the other rows with nans\n",
    "prep_encoding = data_3\n",
    "nan_data = data_3[data_3.isna().any(axis=1)]"
   ]
  },
  {
   "cell_type": "code",
   "execution_count": 16,
   "metadata": {},
   "outputs": [
    {
     "output_type": "execute_result",
     "data": {
      "text/plain": [
       "         region  price    year   manufacturer  condition    cylinders    fuel  \\\n",
       "31       auburn  15000  2013.0           ford  excellent  6 cylinders     gas   \n",
       "34       auburn  35000  2019.0         toyota  excellent  6 cylinders     gas   \n",
       "37       auburn   4500  1992.0           jeep  excellent  6 cylinders     gas   \n",
       "46       auburn      0  2011.0           jeep  excellent          NaN     gas   \n",
       "55       auburn  19900  2004.0           ford       good  8 cylinders  diesel   \n",
       "...         ...    ...     ...            ...        ...          ...     ...   \n",
       "426864  wyoming  29590  2016.0         toyota       good  6 cylinders     gas   \n",
       "426866  wyoming  32990  2016.0       infiniti       good  8 cylinders     gas   \n",
       "426868  wyoming      0  2010.0         toyota  excellent  6 cylinders     gas   \n",
       "426873  wyoming  30990  2018.0  mercedes-benz       good          NaN     gas   \n",
       "426874  wyoming  33590  2018.0          lexus       good  6 cylinders     gas   \n",
       "\n",
       "        odometer title_status transmission drive       size    type  \\\n",
       "31      128000.0        clean    automatic   rwd  full-size   truck   \n",
       "34       43000.0        clean    automatic   4wd        NaN   truck   \n",
       "37      192000.0        clean    automatic   4wd        NaN     NaN   \n",
       "46       99615.0        clean    automatic   NaN  full-size     SUV   \n",
       "55       88000.0        clean    automatic   4wd  full-size  pickup   \n",
       "...          ...          ...          ...   ...        ...     ...   \n",
       "426864   53475.0        clean    automatic   NaN        NaN     SUV   \n",
       "426866   55612.0        clean    automatic   rwd        NaN   other   \n",
       "426868  155000.0        clean    automatic   4wd        NaN     NaN   \n",
       "426873   15080.0        clean    automatic   rwd        NaN   other   \n",
       "426874   30814.0        clean    automatic   rwd        NaN   sedan   \n",
       "\n",
       "       paint_color state  \n",
       "31           black    al  \n",
       "34            grey    al  \n",
       "37             NaN    al  \n",
       "46             NaN    al  \n",
       "55            blue    al  \n",
       "...            ...   ...  \n",
       "426864       black    wy  \n",
       "426866       black    wy  \n",
       "426868        blue    wy  \n",
       "426873       white    wy  \n",
       "426874       white    wy  \n",
       "\n",
       "[348720 rows x 15 columns]"
      ],
      "text/html": "<div>\n<style scoped>\n    .dataframe tbody tr th:only-of-type {\n        vertical-align: middle;\n    }\n\n    .dataframe tbody tr th {\n        vertical-align: top;\n    }\n\n    .dataframe thead th {\n        text-align: right;\n    }\n</style>\n<table border=\"1\" class=\"dataframe\">\n  <thead>\n    <tr style=\"text-align: right;\">\n      <th></th>\n      <th>region</th>\n      <th>price</th>\n      <th>year</th>\n      <th>manufacturer</th>\n      <th>condition</th>\n      <th>cylinders</th>\n      <th>fuel</th>\n      <th>odometer</th>\n      <th>title_status</th>\n      <th>transmission</th>\n      <th>drive</th>\n      <th>size</th>\n      <th>type</th>\n      <th>paint_color</th>\n      <th>state</th>\n    </tr>\n  </thead>\n  <tbody>\n    <tr>\n      <th>31</th>\n      <td>auburn</td>\n      <td>15000</td>\n      <td>2013.0</td>\n      <td>ford</td>\n      <td>excellent</td>\n      <td>6 cylinders</td>\n      <td>gas</td>\n      <td>128000.0</td>\n      <td>clean</td>\n      <td>automatic</td>\n      <td>rwd</td>\n      <td>full-size</td>\n      <td>truck</td>\n      <td>black</td>\n      <td>al</td>\n    </tr>\n    <tr>\n      <th>34</th>\n      <td>auburn</td>\n      <td>35000</td>\n      <td>2019.0</td>\n      <td>toyota</td>\n      <td>excellent</td>\n      <td>6 cylinders</td>\n      <td>gas</td>\n      <td>43000.0</td>\n      <td>clean</td>\n      <td>automatic</td>\n      <td>4wd</td>\n      <td>NaN</td>\n      <td>truck</td>\n      <td>grey</td>\n      <td>al</td>\n    </tr>\n    <tr>\n      <th>37</th>\n      <td>auburn</td>\n      <td>4500</td>\n      <td>1992.0</td>\n      <td>jeep</td>\n      <td>excellent</td>\n      <td>6 cylinders</td>\n      <td>gas</td>\n      <td>192000.0</td>\n      <td>clean</td>\n      <td>automatic</td>\n      <td>4wd</td>\n      <td>NaN</td>\n      <td>NaN</td>\n      <td>NaN</td>\n      <td>al</td>\n    </tr>\n    <tr>\n      <th>46</th>\n      <td>auburn</td>\n      <td>0</td>\n      <td>2011.0</td>\n      <td>jeep</td>\n      <td>excellent</td>\n      <td>NaN</td>\n      <td>gas</td>\n      <td>99615.0</td>\n      <td>clean</td>\n      <td>automatic</td>\n      <td>NaN</td>\n      <td>full-size</td>\n      <td>SUV</td>\n      <td>NaN</td>\n      <td>al</td>\n    </tr>\n    <tr>\n      <th>55</th>\n      <td>auburn</td>\n      <td>19900</td>\n      <td>2004.0</td>\n      <td>ford</td>\n      <td>good</td>\n      <td>8 cylinders</td>\n      <td>diesel</td>\n      <td>88000.0</td>\n      <td>clean</td>\n      <td>automatic</td>\n      <td>4wd</td>\n      <td>full-size</td>\n      <td>pickup</td>\n      <td>blue</td>\n      <td>al</td>\n    </tr>\n    <tr>\n      <th>...</th>\n      <td>...</td>\n      <td>...</td>\n      <td>...</td>\n      <td>...</td>\n      <td>...</td>\n      <td>...</td>\n      <td>...</td>\n      <td>...</td>\n      <td>...</td>\n      <td>...</td>\n      <td>...</td>\n      <td>...</td>\n      <td>...</td>\n      <td>...</td>\n      <td>...</td>\n    </tr>\n    <tr>\n      <th>426864</th>\n      <td>wyoming</td>\n      <td>29590</td>\n      <td>2016.0</td>\n      <td>toyota</td>\n      <td>good</td>\n      <td>6 cylinders</td>\n      <td>gas</td>\n      <td>53475.0</td>\n      <td>clean</td>\n      <td>automatic</td>\n      <td>NaN</td>\n      <td>NaN</td>\n      <td>SUV</td>\n      <td>black</td>\n      <td>wy</td>\n    </tr>\n    <tr>\n      <th>426866</th>\n      <td>wyoming</td>\n      <td>32990</td>\n      <td>2016.0</td>\n      <td>infiniti</td>\n      <td>good</td>\n      <td>8 cylinders</td>\n      <td>gas</td>\n      <td>55612.0</td>\n      <td>clean</td>\n      <td>automatic</td>\n      <td>rwd</td>\n      <td>NaN</td>\n      <td>other</td>\n      <td>black</td>\n      <td>wy</td>\n    </tr>\n    <tr>\n      <th>426868</th>\n      <td>wyoming</td>\n      <td>0</td>\n      <td>2010.0</td>\n      <td>toyota</td>\n      <td>excellent</td>\n      <td>6 cylinders</td>\n      <td>gas</td>\n      <td>155000.0</td>\n      <td>clean</td>\n      <td>automatic</td>\n      <td>4wd</td>\n      <td>NaN</td>\n      <td>NaN</td>\n      <td>blue</td>\n      <td>wy</td>\n    </tr>\n    <tr>\n      <th>426873</th>\n      <td>wyoming</td>\n      <td>30990</td>\n      <td>2018.0</td>\n      <td>mercedes-benz</td>\n      <td>good</td>\n      <td>NaN</td>\n      <td>gas</td>\n      <td>15080.0</td>\n      <td>clean</td>\n      <td>automatic</td>\n      <td>rwd</td>\n      <td>NaN</td>\n      <td>other</td>\n      <td>white</td>\n      <td>wy</td>\n    </tr>\n    <tr>\n      <th>426874</th>\n      <td>wyoming</td>\n      <td>33590</td>\n      <td>2018.0</td>\n      <td>lexus</td>\n      <td>good</td>\n      <td>6 cylinders</td>\n      <td>gas</td>\n      <td>30814.0</td>\n      <td>clean</td>\n      <td>automatic</td>\n      <td>rwd</td>\n      <td>NaN</td>\n      <td>sedan</td>\n      <td>white</td>\n      <td>wy</td>\n    </tr>\n  </tbody>\n</table>\n<p>348720 rows × 15 columns</p>\n</div>"
     },
     "metadata": {},
     "execution_count": 16
    }
   ],
   "source": [
    "prep_encoding"
   ]
  },
  {
   "cell_type": "code",
   "execution_count": null,
   "metadata": {},
   "outputs": [],
   "source": [
    "prep_encoding\n",
    "endcoded = prep_encoding"
   ]
  },
  {
   "cell_type": "code",
   "execution_count": 17,
   "metadata": {},
   "outputs": [],
   "source": [
    "from sklearn.preprocessing import LabelEncoder\n",
    "from sklearn.preprocessing import OrdinalEncoder"
   ]
  },
  {
   "cell_type": "code",
   "execution_count": 18,
   "metadata": {},
   "outputs": [
    {
     "output_type": "stream",
     "name": "stderr",
     "text": [
      "/Users/marcofoley/opt/anaconda3/envs/NCI_1/lib/python3.9/site-packages/pandas/core/indexing.py:1676: SettingWithCopyWarning: \n",
      "A value is trying to be set on a copy of a slice from a DataFrame.\n",
      "Try using .loc[row_indexer,col_indexer] = value instead\n",
      "\n",
      "See the caveats in the documentation: https://pandas.pydata.org/pandas-docs/stable/user_guide/indexing.html#returning-a-view-versus-a-copy\n",
      "  self._setitem_single_column(ilocs[0], value, pi)\n",
      "/Users/marcofoley/opt/anaconda3/envs/NCI_1/lib/python3.9/site-packages/pandas/core/indexing.py:1676: SettingWithCopyWarning: \n",
      "A value is trying to be set on a copy of a slice from a DataFrame.\n",
      "Try using .loc[row_indexer,col_indexer] = value instead\n",
      "\n",
      "See the caveats in the documentation: https://pandas.pydata.org/pandas-docs/stable/user_guide/indexing.html#returning-a-view-versus-a-copy\n",
      "  self._setitem_single_column(ilocs[0], value, pi)\n",
      "/Users/marcofoley/opt/anaconda3/envs/NCI_1/lib/python3.9/site-packages/pandas/core/indexing.py:1676: SettingWithCopyWarning: \n",
      "A value is trying to be set on a copy of a slice from a DataFrame.\n",
      "Try using .loc[row_indexer,col_indexer] = value instead\n",
      "\n",
      "See the caveats in the documentation: https://pandas.pydata.org/pandas-docs/stable/user_guide/indexing.html#returning-a-view-versus-a-copy\n",
      "  self._setitem_single_column(ilocs[0], value, pi)\n",
      "/Users/marcofoley/opt/anaconda3/envs/NCI_1/lib/python3.9/site-packages/pandas/core/indexing.py:1676: SettingWithCopyWarning: \n",
      "A value is trying to be set on a copy of a slice from a DataFrame.\n",
      "Try using .loc[row_indexer,col_indexer] = value instead\n",
      "\n",
      "See the caveats in the documentation: https://pandas.pydata.org/pandas-docs/stable/user_guide/indexing.html#returning-a-view-versus-a-copy\n",
      "  self._setitem_single_column(ilocs[0], value, pi)\n",
      "/Users/marcofoley/opt/anaconda3/envs/NCI_1/lib/python3.9/site-packages/pandas/core/indexing.py:1676: SettingWithCopyWarning: \n",
      "A value is trying to be set on a copy of a slice from a DataFrame.\n",
      "Try using .loc[row_indexer,col_indexer] = value instead\n",
      "\n",
      "See the caveats in the documentation: https://pandas.pydata.org/pandas-docs/stable/user_guide/indexing.html#returning-a-view-versus-a-copy\n",
      "  self._setitem_single_column(ilocs[0], value, pi)\n",
      "/Users/marcofoley/opt/anaconda3/envs/NCI_1/lib/python3.9/site-packages/pandas/core/indexing.py:1676: SettingWithCopyWarning: \n",
      "A value is trying to be set on a copy of a slice from a DataFrame.\n",
      "Try using .loc[row_indexer,col_indexer] = value instead\n",
      "\n",
      "See the caveats in the documentation: https://pandas.pydata.org/pandas-docs/stable/user_guide/indexing.html#returning-a-view-versus-a-copy\n",
      "  self._setitem_single_column(ilocs[0], value, pi)\n",
      "/Users/marcofoley/opt/anaconda3/envs/NCI_1/lib/python3.9/site-packages/pandas/core/indexing.py:1676: SettingWithCopyWarning: \n",
      "A value is trying to be set on a copy of a slice from a DataFrame.\n",
      "Try using .loc[row_indexer,col_indexer] = value instead\n",
      "\n",
      "See the caveats in the documentation: https://pandas.pydata.org/pandas-docs/stable/user_guide/indexing.html#returning-a-view-versus-a-copy\n",
      "  self._setitem_single_column(ilocs[0], value, pi)\n",
      "/Users/marcofoley/opt/anaconda3/envs/NCI_1/lib/python3.9/site-packages/pandas/core/indexing.py:1676: SettingWithCopyWarning: \n",
      "A value is trying to be set on a copy of a slice from a DataFrame.\n",
      "Try using .loc[row_indexer,col_indexer] = value instead\n",
      "\n",
      "See the caveats in the documentation: https://pandas.pydata.org/pandas-docs/stable/user_guide/indexing.html#returning-a-view-versus-a-copy\n",
      "  self._setitem_single_column(ilocs[0], value, pi)\n",
      "/Users/marcofoley/opt/anaconda3/envs/NCI_1/lib/python3.9/site-packages/pandas/core/indexing.py:1676: SettingWithCopyWarning: \n",
      "A value is trying to be set on a copy of a slice from a DataFrame.\n",
      "Try using .loc[row_indexer,col_indexer] = value instead\n",
      "\n",
      "See the caveats in the documentation: https://pandas.pydata.org/pandas-docs/stable/user_guide/indexing.html#returning-a-view-versus-a-copy\n",
      "  self._setitem_single_column(ilocs[0], value, pi)\n",
      "/Users/marcofoley/opt/anaconda3/envs/NCI_1/lib/python3.9/site-packages/pandas/core/indexing.py:1676: SettingWithCopyWarning: \n",
      "A value is trying to be set on a copy of a slice from a DataFrame.\n",
      "Try using .loc[row_indexer,col_indexer] = value instead\n",
      "\n",
      "See the caveats in the documentation: https://pandas.pydata.org/pandas-docs/stable/user_guide/indexing.html#returning-a-view-versus-a-copy\n",
      "  self._setitem_single_column(ilocs[0], value, pi)\n",
      "/Users/marcofoley/opt/anaconda3/envs/NCI_1/lib/python3.9/site-packages/pandas/core/indexing.py:1676: SettingWithCopyWarning: \n",
      "A value is trying to be set on a copy of a slice from a DataFrame.\n",
      "Try using .loc[row_indexer,col_indexer] = value instead\n",
      "\n",
      "See the caveats in the documentation: https://pandas.pydata.org/pandas-docs/stable/user_guide/indexing.html#returning-a-view-versus-a-copy\n",
      "  self._setitem_single_column(ilocs[0], value, pi)\n",
      "/Users/marcofoley/opt/anaconda3/envs/NCI_1/lib/python3.9/site-packages/pandas/core/indexing.py:1676: SettingWithCopyWarning: \n",
      "A value is trying to be set on a copy of a slice from a DataFrame.\n",
      "Try using .loc[row_indexer,col_indexer] = value instead\n",
      "\n",
      "See the caveats in the documentation: https://pandas.pydata.org/pandas-docs/stable/user_guide/indexing.html#returning-a-view-versus-a-copy\n",
      "  self._setitem_single_column(ilocs[0], value, pi)\n",
      "/Users/marcofoley/opt/anaconda3/envs/NCI_1/lib/python3.9/site-packages/pandas/core/indexing.py:1676: SettingWithCopyWarning: \n",
      "A value is trying to be set on a copy of a slice from a DataFrame.\n",
      "Try using .loc[row_indexer,col_indexer] = value instead\n",
      "\n",
      "See the caveats in the documentation: https://pandas.pydata.org/pandas-docs/stable/user_guide/indexing.html#returning-a-view-versus-a-copy\n",
      "  self._setitem_single_column(ilocs[0], value, pi)\n",
      "/Users/marcofoley/opt/anaconda3/envs/NCI_1/lib/python3.9/site-packages/pandas/core/indexing.py:1676: SettingWithCopyWarning: \n",
      "A value is trying to be set on a copy of a slice from a DataFrame.\n",
      "Try using .loc[row_indexer,col_indexer] = value instead\n",
      "\n",
      "See the caveats in the documentation: https://pandas.pydata.org/pandas-docs/stable/user_guide/indexing.html#returning-a-view-versus-a-copy\n",
      "  self._setitem_single_column(ilocs[0], value, pi)\n",
      "/Users/marcofoley/opt/anaconda3/envs/NCI_1/lib/python3.9/site-packages/pandas/core/indexing.py:1676: SettingWithCopyWarning: \n",
      "A value is trying to be set on a copy of a slice from a DataFrame.\n",
      "Try using .loc[row_indexer,col_indexer] = value instead\n",
      "\n",
      "See the caveats in the documentation: https://pandas.pydata.org/pandas-docs/stable/user_guide/indexing.html#returning-a-view-versus-a-copy\n",
      "  self._setitem_single_column(ilocs[0], value, pi)\n"
     ]
    }
   ],
   "source": [
    "\n",
    "#col = prep_encoding.columns\n",
    "encoder_dict = {}\n",
    "for name in prep_encoding:\n",
    "    #encoder for the column\n",
    "    encoder_dict[name] = OrdinalEncoder()\n",
    "    \n",
    "    #select no nulls \n",
    "    col = prep_encoding[name]\n",
    "    col_notnull = col[col.notnull()]\n",
    "    reshape = col_notnull.values.reshape(-1,1)\n",
    "\n",
    "    #encode non-nills \n",
    "    encoded_vals = encoder_dict[name].fit_transform(reshape)\n",
    "    prep_encoding.loc[col.notnull(), name] = np.squeeze(encoded_vals)"
   ]
  },
  {
   "cell_type": "code",
   "execution_count": 19,
   "metadata": {},
   "outputs": [
    {
     "output_type": "execute_result",
     "data": {
      "text/plain": [
       "        region    price   year manufacturer condition cylinders  fuel  \\\n",
       "31        16.0   4977.0  102.0         13.0       0.0       5.0   2.0   \n",
       "34        16.0  11171.0  108.0         39.0       0.0       5.0   2.0   \n",
       "37        16.0   1287.0   81.0         20.0       0.0       5.0   2.0   \n",
       "46        16.0      0.0  100.0         20.0       0.0       NaN   2.0   \n",
       "55        16.0   6932.0   93.0         13.0       2.0       6.0   0.0   \n",
       "...        ...      ...    ...          ...       ...       ...   ...   \n",
       "426864   397.0   9858.0  105.0         39.0       2.0       5.0   2.0   \n",
       "426866   397.0  10694.0  105.0         18.0       2.0       6.0   2.0   \n",
       "426868   397.0      0.0   99.0         39.0       0.0       5.0   2.0   \n",
       "426873   397.0  10235.0  107.0         26.0       2.0       NaN   2.0   \n",
       "426874   397.0  10793.0  107.0         23.0       2.0       5.0   2.0   \n",
       "\n",
       "        odometer  title_status  transmission drive size  type paint_color  \\\n",
       "31       65613.0           0.0           0.0   2.0  1.0  10.0         0.0   \n",
       "34       20084.0           0.0           0.0   0.0  NaN  10.0         5.0   \n",
       "37       88672.0           0.0           0.0   0.0  NaN   NaN         NaN   \n",
       "46       50272.0           0.0           0.0   NaN  1.0   0.0         NaN   \n",
       "55       43526.0           0.0           0.0   0.0  1.0   8.0         1.0   \n",
       "...          ...           ...           ...   ...  ...   ...         ...   \n",
       "426864   25344.0           0.0           0.0   NaN  NaN   0.0         0.0   \n",
       "426866   26377.0           0.0           0.0   2.0  NaN   7.0         0.0   \n",
       "426868   77722.0           0.0           0.0   0.0  NaN   NaN         1.0   \n",
       "426873    5419.0           0.0           0.0   2.0  NaN   7.0        10.0   \n",
       "426874   13492.0           0.0           0.0   2.0  NaN   9.0        10.0   \n",
       "\n",
       "        state  \n",
       "31        1.0  \n",
       "34        1.0  \n",
       "37        1.0  \n",
       "46        1.0  \n",
       "55        1.0  \n",
       "...       ...  \n",
       "426864   50.0  \n",
       "426866   50.0  \n",
       "426868   50.0  \n",
       "426873   50.0  \n",
       "426874   50.0  \n",
       "\n",
       "[348720 rows x 15 columns]"
      ],
      "text/html": "<div>\n<style scoped>\n    .dataframe tbody tr th:only-of-type {\n        vertical-align: middle;\n    }\n\n    .dataframe tbody tr th {\n        vertical-align: top;\n    }\n\n    .dataframe thead th {\n        text-align: right;\n    }\n</style>\n<table border=\"1\" class=\"dataframe\">\n  <thead>\n    <tr style=\"text-align: right;\">\n      <th></th>\n      <th>region</th>\n      <th>price</th>\n      <th>year</th>\n      <th>manufacturer</th>\n      <th>condition</th>\n      <th>cylinders</th>\n      <th>fuel</th>\n      <th>odometer</th>\n      <th>title_status</th>\n      <th>transmission</th>\n      <th>drive</th>\n      <th>size</th>\n      <th>type</th>\n      <th>paint_color</th>\n      <th>state</th>\n    </tr>\n  </thead>\n  <tbody>\n    <tr>\n      <th>31</th>\n      <td>16.0</td>\n      <td>4977.0</td>\n      <td>102.0</td>\n      <td>13.0</td>\n      <td>0.0</td>\n      <td>5.0</td>\n      <td>2.0</td>\n      <td>65613.0</td>\n      <td>0.0</td>\n      <td>0.0</td>\n      <td>2.0</td>\n      <td>1.0</td>\n      <td>10.0</td>\n      <td>0.0</td>\n      <td>1.0</td>\n    </tr>\n    <tr>\n      <th>34</th>\n      <td>16.0</td>\n      <td>11171.0</td>\n      <td>108.0</td>\n      <td>39.0</td>\n      <td>0.0</td>\n      <td>5.0</td>\n      <td>2.0</td>\n      <td>20084.0</td>\n      <td>0.0</td>\n      <td>0.0</td>\n      <td>0.0</td>\n      <td>NaN</td>\n      <td>10.0</td>\n      <td>5.0</td>\n      <td>1.0</td>\n    </tr>\n    <tr>\n      <th>37</th>\n      <td>16.0</td>\n      <td>1287.0</td>\n      <td>81.0</td>\n      <td>20.0</td>\n      <td>0.0</td>\n      <td>5.0</td>\n      <td>2.0</td>\n      <td>88672.0</td>\n      <td>0.0</td>\n      <td>0.0</td>\n      <td>0.0</td>\n      <td>NaN</td>\n      <td>NaN</td>\n      <td>NaN</td>\n      <td>1.0</td>\n    </tr>\n    <tr>\n      <th>46</th>\n      <td>16.0</td>\n      <td>0.0</td>\n      <td>100.0</td>\n      <td>20.0</td>\n      <td>0.0</td>\n      <td>NaN</td>\n      <td>2.0</td>\n      <td>50272.0</td>\n      <td>0.0</td>\n      <td>0.0</td>\n      <td>NaN</td>\n      <td>1.0</td>\n      <td>0.0</td>\n      <td>NaN</td>\n      <td>1.0</td>\n    </tr>\n    <tr>\n      <th>55</th>\n      <td>16.0</td>\n      <td>6932.0</td>\n      <td>93.0</td>\n      <td>13.0</td>\n      <td>2.0</td>\n      <td>6.0</td>\n      <td>0.0</td>\n      <td>43526.0</td>\n      <td>0.0</td>\n      <td>0.0</td>\n      <td>0.0</td>\n      <td>1.0</td>\n      <td>8.0</td>\n      <td>1.0</td>\n      <td>1.0</td>\n    </tr>\n    <tr>\n      <th>...</th>\n      <td>...</td>\n      <td>...</td>\n      <td>...</td>\n      <td>...</td>\n      <td>...</td>\n      <td>...</td>\n      <td>...</td>\n      <td>...</td>\n      <td>...</td>\n      <td>...</td>\n      <td>...</td>\n      <td>...</td>\n      <td>...</td>\n      <td>...</td>\n      <td>...</td>\n    </tr>\n    <tr>\n      <th>426864</th>\n      <td>397.0</td>\n      <td>9858.0</td>\n      <td>105.0</td>\n      <td>39.0</td>\n      <td>2.0</td>\n      <td>5.0</td>\n      <td>2.0</td>\n      <td>25344.0</td>\n      <td>0.0</td>\n      <td>0.0</td>\n      <td>NaN</td>\n      <td>NaN</td>\n      <td>0.0</td>\n      <td>0.0</td>\n      <td>50.0</td>\n    </tr>\n    <tr>\n      <th>426866</th>\n      <td>397.0</td>\n      <td>10694.0</td>\n      <td>105.0</td>\n      <td>18.0</td>\n      <td>2.0</td>\n      <td>6.0</td>\n      <td>2.0</td>\n      <td>26377.0</td>\n      <td>0.0</td>\n      <td>0.0</td>\n      <td>2.0</td>\n      <td>NaN</td>\n      <td>7.0</td>\n      <td>0.0</td>\n      <td>50.0</td>\n    </tr>\n    <tr>\n      <th>426868</th>\n      <td>397.0</td>\n      <td>0.0</td>\n      <td>99.0</td>\n      <td>39.0</td>\n      <td>0.0</td>\n      <td>5.0</td>\n      <td>2.0</td>\n      <td>77722.0</td>\n      <td>0.0</td>\n      <td>0.0</td>\n      <td>0.0</td>\n      <td>NaN</td>\n      <td>NaN</td>\n      <td>1.0</td>\n      <td>50.0</td>\n    </tr>\n    <tr>\n      <th>426873</th>\n      <td>397.0</td>\n      <td>10235.0</td>\n      <td>107.0</td>\n      <td>26.0</td>\n      <td>2.0</td>\n      <td>NaN</td>\n      <td>2.0</td>\n      <td>5419.0</td>\n      <td>0.0</td>\n      <td>0.0</td>\n      <td>2.0</td>\n      <td>NaN</td>\n      <td>7.0</td>\n      <td>10.0</td>\n      <td>50.0</td>\n    </tr>\n    <tr>\n      <th>426874</th>\n      <td>397.0</td>\n      <td>10793.0</td>\n      <td>107.0</td>\n      <td>23.0</td>\n      <td>2.0</td>\n      <td>5.0</td>\n      <td>2.0</td>\n      <td>13492.0</td>\n      <td>0.0</td>\n      <td>0.0</td>\n      <td>2.0</td>\n      <td>NaN</td>\n      <td>9.0</td>\n      <td>10.0</td>\n      <td>50.0</td>\n    </tr>\n  </tbody>\n</table>\n<p>348720 rows × 15 columns</p>\n</div>"
     },
     "metadata": {},
     "execution_count": 19
    }
   ],
   "source": [
    "prep_encoding"
   ]
  },
  {
   "source": [
    "# impute the NANs using KNN "
   ],
   "cell_type": "markdown",
   "metadata": {}
  },
  {
   "cell_type": "code",
   "execution_count": 25,
   "metadata": {},
   "outputs": [],
   "source": [
    "from sklearn.impute import KNNImputer\n",
    "from sklearn.preprocessing import MinMaxScaler"
   ]
  },
  {
   "cell_type": "code",
   "execution_count": 26,
   "metadata": {},
   "outputs": [],
   "source": [
    "imputer = KNNImputer(n_neighbors=5)\n",
    "scale = MinMaxScaler()\n",
    "scaled_data = pd.DataFrame(scale.fit_transform(prep_encoding), columns=prep_encoding.columns)\n",
    "\n"
   ]
  },
  {
   "cell_type": "code",
   "execution_count": 32,
   "metadata": {},
   "outputs": [
    {
     "output_type": "stream",
     "name": "stdout",
     "text": [
      "CPU times: user 1min 39s, sys: 22.9 s, total: 2min 2s\nWall time: 1min 28s\n"
     ]
    }
   ],
   "source": [
    "%%time\n",
    "sample = scaled_data.sample(frac=0.1, replace=False, random_state=1)\n",
    "finaldataset = pd.DataFrame(imputer.fit_transform(sample), columns=scaled_data.columns)\n"
   ]
  },
  {
   "cell_type": "code",
   "execution_count": 48,
   "metadata": {},
   "outputs": [
    {
     "output_type": "execute_result",
     "data": {
      "text/plain": [
       "       region    price   year  manufacturer  condition  cylinders  fuel  \\\n",
       "0       122.0   1852.0   97.0          16.0        0.6        4.8   2.0   \n",
       "1        27.0  10469.0  108.0          37.0        1.2        3.0   2.0   \n",
       "2        80.0   5363.0   96.0           6.0        1.2        6.0   2.0   \n",
       "3        61.0    469.0  100.0          20.0        0.0        4.4   2.0   \n",
       "4       399.0   1767.0   99.0          39.0        0.0        3.8   2.0   \n",
       "...       ...      ...    ...           ...        ...        ...   ...   \n",
       "34867   232.0   2790.0  103.0           8.0        0.0        5.0   2.0   \n",
       "34868   340.0  11447.0  107.0           7.0        0.0        6.0   2.0   \n",
       "34869   189.0   1308.0   93.0           7.0        2.0        5.0   2.0   \n",
       "34870   131.0   1134.0   96.0          39.0        2.0        3.0   3.0   \n",
       "34871   268.0      0.0  100.0          20.0        1.2        4.4   2.0   \n",
       "\n",
       "       odometer  title_status  transmission  drive  size  type  paint_color  \\\n",
       "0       69560.0           0.0           0.0    1.0   1.0   9.0          9.0   \n",
       "1        8104.0           0.0           0.0    0.0   1.4   0.0          7.2   \n",
       "2       61192.0           0.0           0.0    0.0   1.0   0.0          0.0   \n",
       "3       39198.0           0.0           0.0    0.4   1.8   0.6          3.8   \n",
       "4       71655.0           0.0           0.0    1.0   0.6   9.0          8.0   \n",
       "...         ...           ...           ...    ...   ...   ...          ...   \n",
       "34867   42332.0           0.0           0.0    1.0   1.4   7.6          1.0   \n",
       "34868   23426.0           0.0           0.0    0.0   1.0  10.0          5.0   \n",
       "34869   87744.0           0.0           0.0    0.0   1.0   0.0          9.0   \n",
       "34870   88649.0           0.0           0.0    1.0   1.0   9.0          9.0   \n",
       "34871   34769.0           0.0           0.0    0.0   1.2   0.0          1.0   \n",
       "\n",
       "       state  \n",
       "0        9.0  \n",
       "1       26.0  \n",
       "2        5.0  \n",
       "3       35.0  \n",
       "4       38.0  \n",
       "...      ...  \n",
       "34867    6.0  \n",
       "34868   13.0  \n",
       "34869   38.0  \n",
       "34870   27.0  \n",
       "34871   38.0  \n",
       "\n",
       "[34872 rows x 15 columns]"
      ],
      "text/html": "<div>\n<style scoped>\n    .dataframe tbody tr th:only-of-type {\n        vertical-align: middle;\n    }\n\n    .dataframe tbody tr th {\n        vertical-align: top;\n    }\n\n    .dataframe thead th {\n        text-align: right;\n    }\n</style>\n<table border=\"1\" class=\"dataframe\">\n  <thead>\n    <tr style=\"text-align: right;\">\n      <th></th>\n      <th>region</th>\n      <th>price</th>\n      <th>year</th>\n      <th>manufacturer</th>\n      <th>condition</th>\n      <th>cylinders</th>\n      <th>fuel</th>\n      <th>odometer</th>\n      <th>title_status</th>\n      <th>transmission</th>\n      <th>drive</th>\n      <th>size</th>\n      <th>type</th>\n      <th>paint_color</th>\n      <th>state</th>\n    </tr>\n  </thead>\n  <tbody>\n    <tr>\n      <th>0</th>\n      <td>122.0</td>\n      <td>1852.0</td>\n      <td>97.0</td>\n      <td>16.0</td>\n      <td>0.6</td>\n      <td>4.8</td>\n      <td>2.0</td>\n      <td>69560.0</td>\n      <td>0.0</td>\n      <td>0.0</td>\n      <td>1.0</td>\n      <td>1.0</td>\n      <td>9.0</td>\n      <td>9.0</td>\n      <td>9.0</td>\n    </tr>\n    <tr>\n      <th>1</th>\n      <td>27.0</td>\n      <td>10469.0</td>\n      <td>108.0</td>\n      <td>37.0</td>\n      <td>1.2</td>\n      <td>3.0</td>\n      <td>2.0</td>\n      <td>8104.0</td>\n      <td>0.0</td>\n      <td>0.0</td>\n      <td>0.0</td>\n      <td>1.4</td>\n      <td>0.0</td>\n      <td>7.2</td>\n      <td>26.0</td>\n    </tr>\n    <tr>\n      <th>2</th>\n      <td>80.0</td>\n      <td>5363.0</td>\n      <td>96.0</td>\n      <td>6.0</td>\n      <td>1.2</td>\n      <td>6.0</td>\n      <td>2.0</td>\n      <td>61192.0</td>\n      <td>0.0</td>\n      <td>0.0</td>\n      <td>0.0</td>\n      <td>1.0</td>\n      <td>0.0</td>\n      <td>0.0</td>\n      <td>5.0</td>\n    </tr>\n    <tr>\n      <th>3</th>\n      <td>61.0</td>\n      <td>469.0</td>\n      <td>100.0</td>\n      <td>20.0</td>\n      <td>0.0</td>\n      <td>4.4</td>\n      <td>2.0</td>\n      <td>39198.0</td>\n      <td>0.0</td>\n      <td>0.0</td>\n      <td>0.4</td>\n      <td>1.8</td>\n      <td>0.6</td>\n      <td>3.8</td>\n      <td>35.0</td>\n    </tr>\n    <tr>\n      <th>4</th>\n      <td>399.0</td>\n      <td>1767.0</td>\n      <td>99.0</td>\n      <td>39.0</td>\n      <td>0.0</td>\n      <td>3.8</td>\n      <td>2.0</td>\n      <td>71655.0</td>\n      <td>0.0</td>\n      <td>0.0</td>\n      <td>1.0</td>\n      <td>0.6</td>\n      <td>9.0</td>\n      <td>8.0</td>\n      <td>38.0</td>\n    </tr>\n    <tr>\n      <th>...</th>\n      <td>...</td>\n      <td>...</td>\n      <td>...</td>\n      <td>...</td>\n      <td>...</td>\n      <td>...</td>\n      <td>...</td>\n      <td>...</td>\n      <td>...</td>\n      <td>...</td>\n      <td>...</td>\n      <td>...</td>\n      <td>...</td>\n      <td>...</td>\n      <td>...</td>\n    </tr>\n    <tr>\n      <th>34867</th>\n      <td>232.0</td>\n      <td>2790.0</td>\n      <td>103.0</td>\n      <td>8.0</td>\n      <td>0.0</td>\n      <td>5.0</td>\n      <td>2.0</td>\n      <td>42332.0</td>\n      <td>0.0</td>\n      <td>0.0</td>\n      <td>1.0</td>\n      <td>1.4</td>\n      <td>7.6</td>\n      <td>1.0</td>\n      <td>6.0</td>\n    </tr>\n    <tr>\n      <th>34868</th>\n      <td>340.0</td>\n      <td>11447.0</td>\n      <td>107.0</td>\n      <td>7.0</td>\n      <td>0.0</td>\n      <td>6.0</td>\n      <td>2.0</td>\n      <td>23426.0</td>\n      <td>0.0</td>\n      <td>0.0</td>\n      <td>0.0</td>\n      <td>1.0</td>\n      <td>10.0</td>\n      <td>5.0</td>\n      <td>13.0</td>\n    </tr>\n    <tr>\n      <th>34869</th>\n      <td>189.0</td>\n      <td>1308.0</td>\n      <td>93.0</td>\n      <td>7.0</td>\n      <td>2.0</td>\n      <td>5.0</td>\n      <td>2.0</td>\n      <td>87744.0</td>\n      <td>0.0</td>\n      <td>0.0</td>\n      <td>0.0</td>\n      <td>1.0</td>\n      <td>0.0</td>\n      <td>9.0</td>\n      <td>38.0</td>\n    </tr>\n    <tr>\n      <th>34870</th>\n      <td>131.0</td>\n      <td>1134.0</td>\n      <td>96.0</td>\n      <td>39.0</td>\n      <td>2.0</td>\n      <td>3.0</td>\n      <td>3.0</td>\n      <td>88649.0</td>\n      <td>0.0</td>\n      <td>0.0</td>\n      <td>1.0</td>\n      <td>1.0</td>\n      <td>9.0</td>\n      <td>9.0</td>\n      <td>27.0</td>\n    </tr>\n    <tr>\n      <th>34871</th>\n      <td>268.0</td>\n      <td>0.0</td>\n      <td>100.0</td>\n      <td>20.0</td>\n      <td>1.2</td>\n      <td>4.4</td>\n      <td>2.0</td>\n      <td>34769.0</td>\n      <td>0.0</td>\n      <td>0.0</td>\n      <td>0.0</td>\n      <td>1.2</td>\n      <td>0.0</td>\n      <td>1.0</td>\n      <td>38.0</td>\n    </tr>\n  </tbody>\n</table>\n<p>34872 rows × 15 columns</p>\n</div>"
     },
     "metadata": {},
     "execution_count": 48
    }
   ],
   "source": [
    "x"
   ]
  },
  {
   "cell_type": "code",
   "execution_count": 41,
   "metadata": {},
   "outputs": [],
   "source": [
    "x = pd.DataFrame(scale.inverse_transform(finaldataset), columns=finaldataset.columns)"
   ]
  },
  {
   "cell_type": "code",
   "execution_count": 55,
   "metadata": {},
   "outputs": [],
   "source": [
    "for col in x:\n",
    "    #encoder for the column\n",
    "   \n",
    "    reshape_col = x[col].values.reshape(-1,1)\n",
    "    x[col] = encoder_dict[col].inverse_transform(reshape_col)"
   ]
  },
  {
   "cell_type": "code",
   "execution_count": 57,
   "metadata": {},
   "outputs": [
    {
     "output_type": "execute_result",
     "data": {
      "text/plain": [
       "region          False\n",
       "price           False\n",
       "year            False\n",
       "manufacturer    False\n",
       "condition       False\n",
       "cylinders       False\n",
       "fuel            False\n",
       "odometer        False\n",
       "title_status    False\n",
       "transmission    False\n",
       "drive           False\n",
       "size            False\n",
       "type            False\n",
       "paint_color     False\n",
       "state           False\n",
       "dtype: bool"
      ]
     },
     "metadata": {},
     "execution_count": 57
    }
   ],
   "source": [
    "x.isnull().any()"
   ]
  },
  {
   "cell_type": "code",
   "execution_count": 61,
   "metadata": {},
   "outputs": [
    {
     "output_type": "execute_result",
     "data": {
      "text/plain": [
       "                   region  price    year manufacturer  condition    cylinders  \\\n",
       "0             gainesville   6650  2008.0        honda  excellent  5 cylinders   \n",
       "1                    bend  31998  2019.0       subaru       fair  4 cylinders   \n",
       "2                  denver  15998  2007.0     cadillac       fair  8 cylinders   \n",
       "3               cleveland    500  2011.0         jeep  excellent  5 cylinders   \n",
       "4                    york   6400  2010.0       toyota  excellent  4 cylinders   \n",
       "5               la crosse  25500  2018.0          kia   like new  4 cylinders   \n",
       "6         charlottesville  29988  2007.0          gmc  excellent  6 cylinders   \n",
       "7                missoula  23980  2008.0     cadillac       fair  8 cylinders   \n",
       "8              des moines  18995  2011.0          ram       good  8 cylinders   \n",
       "9           south florida   7900  2015.0       nissan  excellent  4 cylinders   \n",
       "10        kansas city, MO   6497  2006.0    chevrolet       fair  4 cylinders   \n",
       "11           south jersey    499  2018.0        acura  excellent  4 cylinders   \n",
       "12               hartford  25990  2016.0         fiat       good  8 cylinders   \n",
       "13             central NJ   1500  2004.0        acura       good  4 cylinders   \n",
       "14           fayetteville      0  2015.0    chevrolet       good  6 cylinders   \n",
       "15        fresno / madera  32999  2014.0        tesla   like new        other   \n",
       "16          south florida   8897  2011.0         ford   like new  6 cylinders   \n",
       "17                  boise  21997  2017.0        buick  excellent  6 cylinders   \n",
       "18             charleston  36900  2018.0    chevrolet  excellent  8 cylinders   \n",
       "19                   bend   7999  2010.0        volvo  excellent  6 cylinders   \n",
       "20               columbus  12950  2017.0     infiniti  excellent  4 cylinders   \n",
       "21             pittsburgh  21499  1972.0      pontiac  excellent  8 cylinders   \n",
       "22         washington, DC  18998  2014.0       nissan  excellent  6 cylinders   \n",
       "23                   yuma  64995  2017.0         ford       good  8 cylinders   \n",
       "24              baltimore  30000  2015.0         ford       fair  6 cylinders   \n",
       "25        fresno / madera  19888  2015.0     cadillac  excellent  6 cylinders   \n",
       "26                lubbock   5995  2005.0        dodge       good  6 cylinders   \n",
       "27  minneapolis / st paul   4900  2008.0       saturn  excellent  6 cylinders   \n",
       "28     huntington-ashland  18995  2010.0         ford       good  8 cylinders   \n",
       "29             sacramento   1500  2015.0       subaru   like new  4 cylinders   \n",
       "30       new river valley   4500  2011.0      hyundai  excellent  4 cylinders   \n",
       "31              baltimore   7999  2012.0        honda  excellent  6 cylinders   \n",
       "32     quad cities, IA/IL  18964  2017.0         ford  excellent  4 cylinders   \n",
       "33             central NJ  17495  2015.0    chevrolet       fair  5 cylinders   \n",
       "34          inland empire   9200  2004.0       toyota   like new  4 cylinders   \n",
       "\n",
       "        fuel  odometer title_status transmission drive       size  \\\n",
       "0        gas  136146.0        clean    automatic   fwd  full-size   \n",
       "1        gas   20809.0        clean    automatic   4wd  full-size   \n",
       "2        gas  119408.0        clean    automatic   4wd  full-size   \n",
       "3        gas   80125.0        clean    automatic   4wd  full-size   \n",
       "4        gas  140629.0        clean    automatic   fwd    compact   \n",
       "5        gas   56500.0        clean    automatic   4wd  full-size   \n",
       "6     diesel  163063.0        clean    automatic   rwd  full-size   \n",
       "7        gas   49012.0        clean    automatic   4wd  full-size   \n",
       "8        gas  123825.0        clean    automatic   4wd  full-size   \n",
       "9        gas  109000.0        clean    automatic   fwd    compact   \n",
       "10       gas  240253.0        clean    automatic   fwd  full-size   \n",
       "11       gas   64037.0        clean    automatic   fwd    compact   \n",
       "12       gas  172373.0        clean    automatic   rwd  full-size   \n",
       "13       gas  160000.0        clean       manual   fwd   mid-size   \n",
       "14     other   44257.0        clean    automatic   fwd    compact   \n",
       "15  electric   97104.0        clean    automatic   rwd   mid-size   \n",
       "16       gas  130000.0        clean    automatic   4wd  full-size   \n",
       "17       gas   55804.0        clean    automatic   fwd    compact   \n",
       "18       gas  118019.0        clean    automatic   4wd  full-size   \n",
       "19       gas  141100.0        clean    automatic   4wd  full-size   \n",
       "20       gas   42602.0        clean    automatic   fwd  full-size   \n",
       "21       gas   75000.0        clean    automatic   rwd  full-size   \n",
       "22       gas  110482.0        clean    automatic   4wd   mid-size   \n",
       "23     other   67340.0        clean    automatic   4wd  full-size   \n",
       "24       gas   32856.0        clean       manual   rwd  full-size   \n",
       "25       gas   66865.0        clean    automatic   fwd  full-size   \n",
       "26       gas  174096.0        clean    automatic   rwd  full-size   \n",
       "27       gas  220000.0        clean    automatic   4wd  full-size   \n",
       "28       gas  166354.0        clean    automatic   4wd  full-size   \n",
       "29       gas   83000.0        clean       manual   4wd    compact   \n",
       "30       gas  126229.0        clean    automatic   fwd  full-size   \n",
       "31       gas  190000.0        clean    automatic   4wd   mid-size   \n",
       "32       gas   28317.0        clean    automatic   4wd  full-size   \n",
       "33       gas   84185.0        clean    automatic   fwd    compact   \n",
       "34       gas   90000.0      salvage    automatic   rwd    compact   \n",
       "\n",
       "           type paint_color state  \n",
       "0         sedan      silver    fl  \n",
       "1           SUV      purple    mt  \n",
       "2           SUV       black    co  \n",
       "3           SUV      custom    oh  \n",
       "4         sedan         red    pa  \n",
       "5     hatchback       black    wi  \n",
       "6         truck       white    tn  \n",
       "7           SUV       black    mt  \n",
       "8         truck        blue    ia  \n",
       "9         other      orange    fl  \n",
       "10       pickup         red    ks  \n",
       "11        sedan       white    nj  \n",
       "12        truck       white    ct  \n",
       "13        sedan       black    nj  \n",
       "14        sedan      silver    ar  \n",
       "15        sedan       black    ca  \n",
       "16          SUV       white    fl  \n",
       "17        sedan         red    id  \n",
       "18        truck       white    wv  \n",
       "19          SUV       black    or  \n",
       "20        sedan       green    oh  \n",
       "21        coupe        grey    pa  \n",
       "22          SUV         red    dc  \n",
       "23       pickup       white    az  \n",
       "24  convertible       black    md  \n",
       "25          SUV         red    fl  \n",
       "26        truck      purple    tx  \n",
       "27          SUV        grey    mn  \n",
       "28        truck         red    ky  \n",
       "29        sedan      yellow    ca  \n",
       "30        sedan        blue    va  \n",
       "31          SUV         red    md  \n",
       "32    hatchback       brown    il  \n",
       "33      offroad      silver    nj  \n",
       "34       pickup       white    ca  "
      ],
      "text/html": "<div>\n<style scoped>\n    .dataframe tbody tr th:only-of-type {\n        vertical-align: middle;\n    }\n\n    .dataframe tbody tr th {\n        vertical-align: top;\n    }\n\n    .dataframe thead th {\n        text-align: right;\n    }\n</style>\n<table border=\"1\" class=\"dataframe\">\n  <thead>\n    <tr style=\"text-align: right;\">\n      <th></th>\n      <th>region</th>\n      <th>price</th>\n      <th>year</th>\n      <th>manufacturer</th>\n      <th>condition</th>\n      <th>cylinders</th>\n      <th>fuel</th>\n      <th>odometer</th>\n      <th>title_status</th>\n      <th>transmission</th>\n      <th>drive</th>\n      <th>size</th>\n      <th>type</th>\n      <th>paint_color</th>\n      <th>state</th>\n    </tr>\n  </thead>\n  <tbody>\n    <tr>\n      <th>0</th>\n      <td>gainesville</td>\n      <td>6650</td>\n      <td>2008.0</td>\n      <td>honda</td>\n      <td>excellent</td>\n      <td>5 cylinders</td>\n      <td>gas</td>\n      <td>136146.0</td>\n      <td>clean</td>\n      <td>automatic</td>\n      <td>fwd</td>\n      <td>full-size</td>\n      <td>sedan</td>\n      <td>silver</td>\n      <td>fl</td>\n    </tr>\n    <tr>\n      <th>1</th>\n      <td>bend</td>\n      <td>31998</td>\n      <td>2019.0</td>\n      <td>subaru</td>\n      <td>fair</td>\n      <td>4 cylinders</td>\n      <td>gas</td>\n      <td>20809.0</td>\n      <td>clean</td>\n      <td>automatic</td>\n      <td>4wd</td>\n      <td>full-size</td>\n      <td>SUV</td>\n      <td>purple</td>\n      <td>mt</td>\n    </tr>\n    <tr>\n      <th>2</th>\n      <td>denver</td>\n      <td>15998</td>\n      <td>2007.0</td>\n      <td>cadillac</td>\n      <td>fair</td>\n      <td>8 cylinders</td>\n      <td>gas</td>\n      <td>119408.0</td>\n      <td>clean</td>\n      <td>automatic</td>\n      <td>4wd</td>\n      <td>full-size</td>\n      <td>SUV</td>\n      <td>black</td>\n      <td>co</td>\n    </tr>\n    <tr>\n      <th>3</th>\n      <td>cleveland</td>\n      <td>500</td>\n      <td>2011.0</td>\n      <td>jeep</td>\n      <td>excellent</td>\n      <td>5 cylinders</td>\n      <td>gas</td>\n      <td>80125.0</td>\n      <td>clean</td>\n      <td>automatic</td>\n      <td>4wd</td>\n      <td>full-size</td>\n      <td>SUV</td>\n      <td>custom</td>\n      <td>oh</td>\n    </tr>\n    <tr>\n      <th>4</th>\n      <td>york</td>\n      <td>6400</td>\n      <td>2010.0</td>\n      <td>toyota</td>\n      <td>excellent</td>\n      <td>4 cylinders</td>\n      <td>gas</td>\n      <td>140629.0</td>\n      <td>clean</td>\n      <td>automatic</td>\n      <td>fwd</td>\n      <td>compact</td>\n      <td>sedan</td>\n      <td>red</td>\n      <td>pa</td>\n    </tr>\n    <tr>\n      <th>5</th>\n      <td>la crosse</td>\n      <td>25500</td>\n      <td>2018.0</td>\n      <td>kia</td>\n      <td>like new</td>\n      <td>4 cylinders</td>\n      <td>gas</td>\n      <td>56500.0</td>\n      <td>clean</td>\n      <td>automatic</td>\n      <td>4wd</td>\n      <td>full-size</td>\n      <td>hatchback</td>\n      <td>black</td>\n      <td>wi</td>\n    </tr>\n    <tr>\n      <th>6</th>\n      <td>charlottesville</td>\n      <td>29988</td>\n      <td>2007.0</td>\n      <td>gmc</td>\n      <td>excellent</td>\n      <td>6 cylinders</td>\n      <td>diesel</td>\n      <td>163063.0</td>\n      <td>clean</td>\n      <td>automatic</td>\n      <td>rwd</td>\n      <td>full-size</td>\n      <td>truck</td>\n      <td>white</td>\n      <td>tn</td>\n    </tr>\n    <tr>\n      <th>7</th>\n      <td>missoula</td>\n      <td>23980</td>\n      <td>2008.0</td>\n      <td>cadillac</td>\n      <td>fair</td>\n      <td>8 cylinders</td>\n      <td>gas</td>\n      <td>49012.0</td>\n      <td>clean</td>\n      <td>automatic</td>\n      <td>4wd</td>\n      <td>full-size</td>\n      <td>SUV</td>\n      <td>black</td>\n      <td>mt</td>\n    </tr>\n    <tr>\n      <th>8</th>\n      <td>des moines</td>\n      <td>18995</td>\n      <td>2011.0</td>\n      <td>ram</td>\n      <td>good</td>\n      <td>8 cylinders</td>\n      <td>gas</td>\n      <td>123825.0</td>\n      <td>clean</td>\n      <td>automatic</td>\n      <td>4wd</td>\n      <td>full-size</td>\n      <td>truck</td>\n      <td>blue</td>\n      <td>ia</td>\n    </tr>\n    <tr>\n      <th>9</th>\n      <td>south florida</td>\n      <td>7900</td>\n      <td>2015.0</td>\n      <td>nissan</td>\n      <td>excellent</td>\n      <td>4 cylinders</td>\n      <td>gas</td>\n      <td>109000.0</td>\n      <td>clean</td>\n      <td>automatic</td>\n      <td>fwd</td>\n      <td>compact</td>\n      <td>other</td>\n      <td>orange</td>\n      <td>fl</td>\n    </tr>\n    <tr>\n      <th>10</th>\n      <td>kansas city, MO</td>\n      <td>6497</td>\n      <td>2006.0</td>\n      <td>chevrolet</td>\n      <td>fair</td>\n      <td>4 cylinders</td>\n      <td>gas</td>\n      <td>240253.0</td>\n      <td>clean</td>\n      <td>automatic</td>\n      <td>fwd</td>\n      <td>full-size</td>\n      <td>pickup</td>\n      <td>red</td>\n      <td>ks</td>\n    </tr>\n    <tr>\n      <th>11</th>\n      <td>south jersey</td>\n      <td>499</td>\n      <td>2018.0</td>\n      <td>acura</td>\n      <td>excellent</td>\n      <td>4 cylinders</td>\n      <td>gas</td>\n      <td>64037.0</td>\n      <td>clean</td>\n      <td>automatic</td>\n      <td>fwd</td>\n      <td>compact</td>\n      <td>sedan</td>\n      <td>white</td>\n      <td>nj</td>\n    </tr>\n    <tr>\n      <th>12</th>\n      <td>hartford</td>\n      <td>25990</td>\n      <td>2016.0</td>\n      <td>fiat</td>\n      <td>good</td>\n      <td>8 cylinders</td>\n      <td>gas</td>\n      <td>172373.0</td>\n      <td>clean</td>\n      <td>automatic</td>\n      <td>rwd</td>\n      <td>full-size</td>\n      <td>truck</td>\n      <td>white</td>\n      <td>ct</td>\n    </tr>\n    <tr>\n      <th>13</th>\n      <td>central NJ</td>\n      <td>1500</td>\n      <td>2004.0</td>\n      <td>acura</td>\n      <td>good</td>\n      <td>4 cylinders</td>\n      <td>gas</td>\n      <td>160000.0</td>\n      <td>clean</td>\n      <td>manual</td>\n      <td>fwd</td>\n      <td>mid-size</td>\n      <td>sedan</td>\n      <td>black</td>\n      <td>nj</td>\n    </tr>\n    <tr>\n      <th>14</th>\n      <td>fayetteville</td>\n      <td>0</td>\n      <td>2015.0</td>\n      <td>chevrolet</td>\n      <td>good</td>\n      <td>6 cylinders</td>\n      <td>other</td>\n      <td>44257.0</td>\n      <td>clean</td>\n      <td>automatic</td>\n      <td>fwd</td>\n      <td>compact</td>\n      <td>sedan</td>\n      <td>silver</td>\n      <td>ar</td>\n    </tr>\n    <tr>\n      <th>15</th>\n      <td>fresno / madera</td>\n      <td>32999</td>\n      <td>2014.0</td>\n      <td>tesla</td>\n      <td>like new</td>\n      <td>other</td>\n      <td>electric</td>\n      <td>97104.0</td>\n      <td>clean</td>\n      <td>automatic</td>\n      <td>rwd</td>\n      <td>mid-size</td>\n      <td>sedan</td>\n      <td>black</td>\n      <td>ca</td>\n    </tr>\n    <tr>\n      <th>16</th>\n      <td>south florida</td>\n      <td>8897</td>\n      <td>2011.0</td>\n      <td>ford</td>\n      <td>like new</td>\n      <td>6 cylinders</td>\n      <td>gas</td>\n      <td>130000.0</td>\n      <td>clean</td>\n      <td>automatic</td>\n      <td>4wd</td>\n      <td>full-size</td>\n      <td>SUV</td>\n      <td>white</td>\n      <td>fl</td>\n    </tr>\n    <tr>\n      <th>17</th>\n      <td>boise</td>\n      <td>21997</td>\n      <td>2017.0</td>\n      <td>buick</td>\n      <td>excellent</td>\n      <td>6 cylinders</td>\n      <td>gas</td>\n      <td>55804.0</td>\n      <td>clean</td>\n      <td>automatic</td>\n      <td>fwd</td>\n      <td>compact</td>\n      <td>sedan</td>\n      <td>red</td>\n      <td>id</td>\n    </tr>\n    <tr>\n      <th>18</th>\n      <td>charleston</td>\n      <td>36900</td>\n      <td>2018.0</td>\n      <td>chevrolet</td>\n      <td>excellent</td>\n      <td>8 cylinders</td>\n      <td>gas</td>\n      <td>118019.0</td>\n      <td>clean</td>\n      <td>automatic</td>\n      <td>4wd</td>\n      <td>full-size</td>\n      <td>truck</td>\n      <td>white</td>\n      <td>wv</td>\n    </tr>\n    <tr>\n      <th>19</th>\n      <td>bend</td>\n      <td>7999</td>\n      <td>2010.0</td>\n      <td>volvo</td>\n      <td>excellent</td>\n      <td>6 cylinders</td>\n      <td>gas</td>\n      <td>141100.0</td>\n      <td>clean</td>\n      <td>automatic</td>\n      <td>4wd</td>\n      <td>full-size</td>\n      <td>SUV</td>\n      <td>black</td>\n      <td>or</td>\n    </tr>\n    <tr>\n      <th>20</th>\n      <td>columbus</td>\n      <td>12950</td>\n      <td>2017.0</td>\n      <td>infiniti</td>\n      <td>excellent</td>\n      <td>4 cylinders</td>\n      <td>gas</td>\n      <td>42602.0</td>\n      <td>clean</td>\n      <td>automatic</td>\n      <td>fwd</td>\n      <td>full-size</td>\n      <td>sedan</td>\n      <td>green</td>\n      <td>oh</td>\n    </tr>\n    <tr>\n      <th>21</th>\n      <td>pittsburgh</td>\n      <td>21499</td>\n      <td>1972.0</td>\n      <td>pontiac</td>\n      <td>excellent</td>\n      <td>8 cylinders</td>\n      <td>gas</td>\n      <td>75000.0</td>\n      <td>clean</td>\n      <td>automatic</td>\n      <td>rwd</td>\n      <td>full-size</td>\n      <td>coupe</td>\n      <td>grey</td>\n      <td>pa</td>\n    </tr>\n    <tr>\n      <th>22</th>\n      <td>washington, DC</td>\n      <td>18998</td>\n      <td>2014.0</td>\n      <td>nissan</td>\n      <td>excellent</td>\n      <td>6 cylinders</td>\n      <td>gas</td>\n      <td>110482.0</td>\n      <td>clean</td>\n      <td>automatic</td>\n      <td>4wd</td>\n      <td>mid-size</td>\n      <td>SUV</td>\n      <td>red</td>\n      <td>dc</td>\n    </tr>\n    <tr>\n      <th>23</th>\n      <td>yuma</td>\n      <td>64995</td>\n      <td>2017.0</td>\n      <td>ford</td>\n      <td>good</td>\n      <td>8 cylinders</td>\n      <td>other</td>\n      <td>67340.0</td>\n      <td>clean</td>\n      <td>automatic</td>\n      <td>4wd</td>\n      <td>full-size</td>\n      <td>pickup</td>\n      <td>white</td>\n      <td>az</td>\n    </tr>\n    <tr>\n      <th>24</th>\n      <td>baltimore</td>\n      <td>30000</td>\n      <td>2015.0</td>\n      <td>ford</td>\n      <td>fair</td>\n      <td>6 cylinders</td>\n      <td>gas</td>\n      <td>32856.0</td>\n      <td>clean</td>\n      <td>manual</td>\n      <td>rwd</td>\n      <td>full-size</td>\n      <td>convertible</td>\n      <td>black</td>\n      <td>md</td>\n    </tr>\n    <tr>\n      <th>25</th>\n      <td>fresno / madera</td>\n      <td>19888</td>\n      <td>2015.0</td>\n      <td>cadillac</td>\n      <td>excellent</td>\n      <td>6 cylinders</td>\n      <td>gas</td>\n      <td>66865.0</td>\n      <td>clean</td>\n      <td>automatic</td>\n      <td>fwd</td>\n      <td>full-size</td>\n      <td>SUV</td>\n      <td>red</td>\n      <td>fl</td>\n    </tr>\n    <tr>\n      <th>26</th>\n      <td>lubbock</td>\n      <td>5995</td>\n      <td>2005.0</td>\n      <td>dodge</td>\n      <td>good</td>\n      <td>6 cylinders</td>\n      <td>gas</td>\n      <td>174096.0</td>\n      <td>clean</td>\n      <td>automatic</td>\n      <td>rwd</td>\n      <td>full-size</td>\n      <td>truck</td>\n      <td>purple</td>\n      <td>tx</td>\n    </tr>\n    <tr>\n      <th>27</th>\n      <td>minneapolis / st paul</td>\n      <td>4900</td>\n      <td>2008.0</td>\n      <td>saturn</td>\n      <td>excellent</td>\n      <td>6 cylinders</td>\n      <td>gas</td>\n      <td>220000.0</td>\n      <td>clean</td>\n      <td>automatic</td>\n      <td>4wd</td>\n      <td>full-size</td>\n      <td>SUV</td>\n      <td>grey</td>\n      <td>mn</td>\n    </tr>\n    <tr>\n      <th>28</th>\n      <td>huntington-ashland</td>\n      <td>18995</td>\n      <td>2010.0</td>\n      <td>ford</td>\n      <td>good</td>\n      <td>8 cylinders</td>\n      <td>gas</td>\n      <td>166354.0</td>\n      <td>clean</td>\n      <td>automatic</td>\n      <td>4wd</td>\n      <td>full-size</td>\n      <td>truck</td>\n      <td>red</td>\n      <td>ky</td>\n    </tr>\n    <tr>\n      <th>29</th>\n      <td>sacramento</td>\n      <td>1500</td>\n      <td>2015.0</td>\n      <td>subaru</td>\n      <td>like new</td>\n      <td>4 cylinders</td>\n      <td>gas</td>\n      <td>83000.0</td>\n      <td>clean</td>\n      <td>manual</td>\n      <td>4wd</td>\n      <td>compact</td>\n      <td>sedan</td>\n      <td>yellow</td>\n      <td>ca</td>\n    </tr>\n    <tr>\n      <th>30</th>\n      <td>new river valley</td>\n      <td>4500</td>\n      <td>2011.0</td>\n      <td>hyundai</td>\n      <td>excellent</td>\n      <td>4 cylinders</td>\n      <td>gas</td>\n      <td>126229.0</td>\n      <td>clean</td>\n      <td>automatic</td>\n      <td>fwd</td>\n      <td>full-size</td>\n      <td>sedan</td>\n      <td>blue</td>\n      <td>va</td>\n    </tr>\n    <tr>\n      <th>31</th>\n      <td>baltimore</td>\n      <td>7999</td>\n      <td>2012.0</td>\n      <td>honda</td>\n      <td>excellent</td>\n      <td>6 cylinders</td>\n      <td>gas</td>\n      <td>190000.0</td>\n      <td>clean</td>\n      <td>automatic</td>\n      <td>4wd</td>\n      <td>mid-size</td>\n      <td>SUV</td>\n      <td>red</td>\n      <td>md</td>\n    </tr>\n    <tr>\n      <th>32</th>\n      <td>quad cities, IA/IL</td>\n      <td>18964</td>\n      <td>2017.0</td>\n      <td>ford</td>\n      <td>excellent</td>\n      <td>4 cylinders</td>\n      <td>gas</td>\n      <td>28317.0</td>\n      <td>clean</td>\n      <td>automatic</td>\n      <td>4wd</td>\n      <td>full-size</td>\n      <td>hatchback</td>\n      <td>brown</td>\n      <td>il</td>\n    </tr>\n    <tr>\n      <th>33</th>\n      <td>central NJ</td>\n      <td>17495</td>\n      <td>2015.0</td>\n      <td>chevrolet</td>\n      <td>fair</td>\n      <td>5 cylinders</td>\n      <td>gas</td>\n      <td>84185.0</td>\n      <td>clean</td>\n      <td>automatic</td>\n      <td>fwd</td>\n      <td>compact</td>\n      <td>offroad</td>\n      <td>silver</td>\n      <td>nj</td>\n    </tr>\n    <tr>\n      <th>34</th>\n      <td>inland empire</td>\n      <td>9200</td>\n      <td>2004.0</td>\n      <td>toyota</td>\n      <td>like new</td>\n      <td>4 cylinders</td>\n      <td>gas</td>\n      <td>90000.0</td>\n      <td>salvage</td>\n      <td>automatic</td>\n      <td>rwd</td>\n      <td>compact</td>\n      <td>pickup</td>\n      <td>white</td>\n      <td>ca</td>\n    </tr>\n  </tbody>\n</table>\n</div>"
     },
     "metadata": {},
     "execution_count": 61
    }
   ],
   "source": [
    "x.head(35)"
   ]
  },
  {
   "cell_type": "code",
   "execution_count": null,
   "metadata": {},
   "outputs": [],
   "source": [
    "#Ordinal Encoders\n",
    "sizeorder = ['sub-compact', 'compact', 'mid-size', 'full-size']\n",
    "size_encoder = OrdinalEncoder(categories =[sizeorder])\n",
    "conditionorder = ['salvage', 'fair','good','like new', 'new', 'excellent']\n",
    "condition_encoder = OrdinalEncoder(categories=[conditionorder])\n",
    "titleorder = ['parts only', 'missing','lien','salvage', 'rebuilt', 'clean']\n",
    "title_encoder = OrdinalEncoder(categories=[titleorder])\n",
    "\n",
    "# Label encoders\n",
    "region_encoder = LabelEncoder()\n",
    "manuf_encoder = LabelEncoder()\n",
    "cylinder_encoder = LabelEncoder()\n",
    "paint_encoder = LabelEncoder()\n",
    "type_encoder = LabelEncoder()\n",
    "drive_encoder = LabelEncoder()\n",
    "transmission_encoder = LabelEncoder()\n",
    "state_encoder = LabelEncoder()\n",
    "fuel_encoder = LabelEncoder()\n",
    "\n",
    "\n"
   ]
  },
  {
   "cell_type": "code",
   "execution_count": null,
   "metadata": {},
   "outputs": [],
   "source": [
    "#Fit the encoders with data\n",
    "size_encoder.fit(prep_encoding[['size']])\n",
    "size_labels = size_encoder.fit_transform(prep_encoding[['size']])\n",
    "\n",
    "# condition_encoder.fit(prep_encoding[['condition']])\n",
    "# condition_labels = condition_encoder.fit_transform(prep_encoding[['condition']])\n",
    "\n",
    "# region_encoder.fit(prep_encoding[['region']])\n",
    "# region_labels = region_encoder.fit_transform(prep_encoding[['region']])\n",
    "\n",
    "# manuf_encoder.fit(prep_encoding[['manufacturer']])\n",
    "# manuf_labels = manuf_encoder.fit_transform(prep_encoding[['manufacturer']])\n",
    "\n",
    "# cylinder_encoder.fit(prep_encoding[['cylinders']])\n",
    "# cylinder_labels = cylinder_encoder.fit_transform(prep_encoding[['cylinders']]) \n",
    "\n",
    "# paint_encoder.fit(prep_encoding[['paint_color']])\n",
    "# paint_labels = paint_encoder.fit_transform(prep_encoding[['paint_color']])\n",
    "\n",
    "# type_encoder.fit(prep_encoding[['type']])\n",
    "# type_labels = type_encoder.fit_transform(prep_encoding[['type']])\n",
    "\n",
    "# drive_encoder.fit(prep_encoding[['drive']])\n",
    "# drive_labels = drive_encoder.fit_transform(prep_encoding[['drive']])\n",
    "\n",
    "# transmission_encoder.fit(prep_encoding[['transmission']])\n",
    "# transmission_labels = transmission_encoder.fit_transform(prep_encoding[['transmission']])\n",
    "\n",
    "# state_encoder.fit(prep_encoding[['state']])\n",
    "# state_labels = state_encoder.fit_transform(prep_encoding[['state']])\n",
    "\n",
    "# fuel_encoder.fit(prep_encoding[['fuel']])\n",
    "# fuel_labels = fuel_encoder.fit_transform(prep_encoding[['fuel']])\n",
    "\n",
    "# title_encoder.fit(prep_encoding[['title_status']])\n",
    "# title_labels = title_encoder.fit_transform(prep_encoding[['title_status']])"
   ]
  },
  {
   "cell_type": "code",
   "execution_count": null,
   "metadata": {},
   "outputs": [],
   "source": [
    "#Adding Labels back into the data set \n",
    "endcoded['size'] = size_labels\n",
    "endcoded['condition'] = condition_labels\n",
    "endcoded['region'] = region_labels\n",
    "endcoded['manufacturer'] = manuf_labels\n",
    "endcoded['cylinders'] = cylinder_labels\n",
    "endcoded['paint_color'] = paint_labels\n",
    "endcoded['type'] = type_labels\n",
    "endcoded['drive'] = drive_labels\n",
    "endcoded['transmission'] = transmission_labels\n",
    "endcoded['state'] = state_labels\n",
    "endcoded['title'] = title_labels\n",
    "endcoded['fuel'] = fuel_labels\n",
    "endcoded['title_status'] = title_labels\n"
   ]
  },
  {
   "cell_type": "code",
   "execution_count": null,
   "metadata": {},
   "outputs": [],
   "source": [
    "endcoded.notna()"
   ]
  },
  {
   "cell_type": "code",
   "execution_count": null,
   "metadata": {},
   "outputs": [],
   "source": []
  }
 ]
}