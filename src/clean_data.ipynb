{
 "metadata": {
  "language_info": {
   "codemirror_mode": {
    "name": "ipython",
    "version": 3
   },
   "file_extension": ".py",
   "mimetype": "text/x-python",
   "name": "python",
   "nbconvert_exporter": "python",
   "pygments_lexer": "ipython3",
   "version": "3.9.5"
  },
  "orig_nbformat": 4,
  "kernelspec": {
   "name": "python3",
   "display_name": "Python 3.9.5 64-bit ('NCI_1': conda)"
  },
  "interpreter": {
   "hash": "7b187336c19c9e85c247d6c6e3e3cad294591fae144eb330f64124e413af1302"
  }
 },
 "nbformat": 4,
 "nbformat_minor": 2,
 "cells": [
  {
   "source": [
    "# Clean Used Car Data"
   ],
   "cell_type": "markdown",
   "metadata": {}
  },
  {
   "cell_type": "code",
   "execution_count": null,
   "metadata": {},
   "outputs": [],
   "source": [
    "import pandas as pd \n",
    "import numpy as np \n",
    "import statistics as stat \n",
    "import sys\n",
    "sys.path.append(\".\")\n",
    "import logging as logger"
   ]
  },
  {
   "cell_type": "code",
   "execution_count": 2,
   "metadata": {},
   "outputs": [],
   "source": [
    "#load data into dataframe for cleaning \n",
    "\n",
    "raw_data = pd.read_csv(\"../data/vehicles.csv\")\n",
    "  "
   ]
  },
  {
   "cell_type": "code",
   "execution_count": 4,
   "metadata": {},
   "outputs": [
    {
     "output_type": "execute_result",
     "data": {
      "text/plain": [
       "(426880, 26)"
      ]
     },
     "metadata": {},
     "execution_count": 4
    }
   ],
   "source": [
    "raw_data.shape # checking the expected data has arrived"
   ]
  },
  {
   "cell_type": "code",
   "execution_count": 27,
   "metadata": {},
   "outputs": [
    {
     "output_type": "execute_result",
     "data": {
      "text/plain": [
       "           id                                                url  \\\n",
       "0  7222695916  https://prescott.craigslist.org/cto/d/prescott...   \n",
       "1  7218891961  https://fayar.craigslist.org/ctd/d/bentonville...   \n",
       "2  7221797935  https://keys.craigslist.org/cto/d/summerland-k...   \n",
       "3  7222270760  https://worcester.craigslist.org/cto/d/west-br...   \n",
       "4  7210384030  https://greensboro.craigslist.org/cto/d/trinit...   \n",
       "5  7222379453  https://hudsonvalley.craigslist.org/cto/d/west...   \n",
       "6  7221952215  https://hudsonvalley.craigslist.org/cto/d/west...   \n",
       "7  7220195662  https://hudsonvalley.craigslist.org/cto/d/poug...   \n",
       "8  7209064557  https://medford.craigslist.org/cto/d/grants-pa...   \n",
       "9  7219485069  https://erie.craigslist.org/cto/d/erie-2012-su...   \n",
       "\n",
       "                   region                           region_url  price  year  \\\n",
       "0                prescott      https://prescott.craigslist.org   6000   NaN   \n",
       "1            fayetteville         https://fayar.craigslist.org  11900   NaN   \n",
       "2            florida keys          https://keys.craigslist.org  21000   NaN   \n",
       "3  worcester / central MA     https://worcester.craigslist.org   1500   NaN   \n",
       "4              greensboro    https://greensboro.craigslist.org   4900   NaN   \n",
       "5           hudson valley  https://hudsonvalley.craigslist.org   1600   NaN   \n",
       "6           hudson valley  https://hudsonvalley.craigslist.org   1000   NaN   \n",
       "7           hudson valley  https://hudsonvalley.craigslist.org  15995   NaN   \n",
       "8         medford-ashland       https://medford.craigslist.org   5000   NaN   \n",
       "9                    erie          https://erie.craigslist.org   3000   NaN   \n",
       "\n",
       "  manufacturer model condition cylinders  ... size  type paint_color  \\\n",
       "0          NaN   NaN       NaN       NaN  ...  NaN   NaN         NaN   \n",
       "1          NaN   NaN       NaN       NaN  ...  NaN   NaN         NaN   \n",
       "2          NaN   NaN       NaN       NaN  ...  NaN   NaN         NaN   \n",
       "3          NaN   NaN       NaN       NaN  ...  NaN   NaN         NaN   \n",
       "4          NaN   NaN       NaN       NaN  ...  NaN   NaN         NaN   \n",
       "5          NaN   NaN       NaN       NaN  ...  NaN   NaN         NaN   \n",
       "6          NaN   NaN       NaN       NaN  ...  NaN   NaN         NaN   \n",
       "7          NaN   NaN       NaN       NaN  ...  NaN   NaN         NaN   \n",
       "8          NaN   NaN       NaN       NaN  ...  NaN   NaN         NaN   \n",
       "9          NaN   NaN       NaN       NaN  ...  NaN   NaN         NaN   \n",
       "\n",
       "  image_url description county state lat long posting_date  \n",
       "0       NaN         NaN    NaN    az NaN  NaN          NaN  \n",
       "1       NaN         NaN    NaN    ar NaN  NaN          NaN  \n",
       "2       NaN         NaN    NaN    fl NaN  NaN          NaN  \n",
       "3       NaN         NaN    NaN    ma NaN  NaN          NaN  \n",
       "4       NaN         NaN    NaN    nc NaN  NaN          NaN  \n",
       "5       NaN         NaN    NaN    ny NaN  NaN          NaN  \n",
       "6       NaN         NaN    NaN    ny NaN  NaN          NaN  \n",
       "7       NaN         NaN    NaN    ny NaN  NaN          NaN  \n",
       "8       NaN         NaN    NaN    or NaN  NaN          NaN  \n",
       "9       NaN         NaN    NaN    pa NaN  NaN          NaN  \n",
       "\n",
       "[10 rows x 26 columns]"
      ],
      "text/html": "<div>\n<style scoped>\n    .dataframe tbody tr th:only-of-type {\n        vertical-align: middle;\n    }\n\n    .dataframe tbody tr th {\n        vertical-align: top;\n    }\n\n    .dataframe thead th {\n        text-align: right;\n    }\n</style>\n<table border=\"1\" class=\"dataframe\">\n  <thead>\n    <tr style=\"text-align: right;\">\n      <th></th>\n      <th>id</th>\n      <th>url</th>\n      <th>region</th>\n      <th>region_url</th>\n      <th>price</th>\n      <th>year</th>\n      <th>manufacturer</th>\n      <th>model</th>\n      <th>condition</th>\n      <th>cylinders</th>\n      <th>...</th>\n      <th>size</th>\n      <th>type</th>\n      <th>paint_color</th>\n      <th>image_url</th>\n      <th>description</th>\n      <th>county</th>\n      <th>state</th>\n      <th>lat</th>\n      <th>long</th>\n      <th>posting_date</th>\n    </tr>\n  </thead>\n  <tbody>\n    <tr>\n      <th>0</th>\n      <td>7222695916</td>\n      <td>https://prescott.craigslist.org/cto/d/prescott...</td>\n      <td>prescott</td>\n      <td>https://prescott.craigslist.org</td>\n      <td>6000</td>\n      <td>NaN</td>\n      <td>NaN</td>\n      <td>NaN</td>\n      <td>NaN</td>\n      <td>NaN</td>\n      <td>...</td>\n      <td>NaN</td>\n      <td>NaN</td>\n      <td>NaN</td>\n      <td>NaN</td>\n      <td>NaN</td>\n      <td>NaN</td>\n      <td>az</td>\n      <td>NaN</td>\n      <td>NaN</td>\n      <td>NaN</td>\n    </tr>\n    <tr>\n      <th>1</th>\n      <td>7218891961</td>\n      <td>https://fayar.craigslist.org/ctd/d/bentonville...</td>\n      <td>fayetteville</td>\n      <td>https://fayar.craigslist.org</td>\n      <td>11900</td>\n      <td>NaN</td>\n      <td>NaN</td>\n      <td>NaN</td>\n      <td>NaN</td>\n      <td>NaN</td>\n      <td>...</td>\n      <td>NaN</td>\n      <td>NaN</td>\n      <td>NaN</td>\n      <td>NaN</td>\n      <td>NaN</td>\n      <td>NaN</td>\n      <td>ar</td>\n      <td>NaN</td>\n      <td>NaN</td>\n      <td>NaN</td>\n    </tr>\n    <tr>\n      <th>2</th>\n      <td>7221797935</td>\n      <td>https://keys.craigslist.org/cto/d/summerland-k...</td>\n      <td>florida keys</td>\n      <td>https://keys.craigslist.org</td>\n      <td>21000</td>\n      <td>NaN</td>\n      <td>NaN</td>\n      <td>NaN</td>\n      <td>NaN</td>\n      <td>NaN</td>\n      <td>...</td>\n      <td>NaN</td>\n      <td>NaN</td>\n      <td>NaN</td>\n      <td>NaN</td>\n      <td>NaN</td>\n      <td>NaN</td>\n      <td>fl</td>\n      <td>NaN</td>\n      <td>NaN</td>\n      <td>NaN</td>\n    </tr>\n    <tr>\n      <th>3</th>\n      <td>7222270760</td>\n      <td>https://worcester.craigslist.org/cto/d/west-br...</td>\n      <td>worcester / central MA</td>\n      <td>https://worcester.craigslist.org</td>\n      <td>1500</td>\n      <td>NaN</td>\n      <td>NaN</td>\n      <td>NaN</td>\n      <td>NaN</td>\n      <td>NaN</td>\n      <td>...</td>\n      <td>NaN</td>\n      <td>NaN</td>\n      <td>NaN</td>\n      <td>NaN</td>\n      <td>NaN</td>\n      <td>NaN</td>\n      <td>ma</td>\n      <td>NaN</td>\n      <td>NaN</td>\n      <td>NaN</td>\n    </tr>\n    <tr>\n      <th>4</th>\n      <td>7210384030</td>\n      <td>https://greensboro.craigslist.org/cto/d/trinit...</td>\n      <td>greensboro</td>\n      <td>https://greensboro.craigslist.org</td>\n      <td>4900</td>\n      <td>NaN</td>\n      <td>NaN</td>\n      <td>NaN</td>\n      <td>NaN</td>\n      <td>NaN</td>\n      <td>...</td>\n      <td>NaN</td>\n      <td>NaN</td>\n      <td>NaN</td>\n      <td>NaN</td>\n      <td>NaN</td>\n      <td>NaN</td>\n      <td>nc</td>\n      <td>NaN</td>\n      <td>NaN</td>\n      <td>NaN</td>\n    </tr>\n    <tr>\n      <th>5</th>\n      <td>7222379453</td>\n      <td>https://hudsonvalley.craigslist.org/cto/d/west...</td>\n      <td>hudson valley</td>\n      <td>https://hudsonvalley.craigslist.org</td>\n      <td>1600</td>\n      <td>NaN</td>\n      <td>NaN</td>\n      <td>NaN</td>\n      <td>NaN</td>\n      <td>NaN</td>\n      <td>...</td>\n      <td>NaN</td>\n      <td>NaN</td>\n      <td>NaN</td>\n      <td>NaN</td>\n      <td>NaN</td>\n      <td>NaN</td>\n      <td>ny</td>\n      <td>NaN</td>\n      <td>NaN</td>\n      <td>NaN</td>\n    </tr>\n    <tr>\n      <th>6</th>\n      <td>7221952215</td>\n      <td>https://hudsonvalley.craigslist.org/cto/d/west...</td>\n      <td>hudson valley</td>\n      <td>https://hudsonvalley.craigslist.org</td>\n      <td>1000</td>\n      <td>NaN</td>\n      <td>NaN</td>\n      <td>NaN</td>\n      <td>NaN</td>\n      <td>NaN</td>\n      <td>...</td>\n      <td>NaN</td>\n      <td>NaN</td>\n      <td>NaN</td>\n      <td>NaN</td>\n      <td>NaN</td>\n      <td>NaN</td>\n      <td>ny</td>\n      <td>NaN</td>\n      <td>NaN</td>\n      <td>NaN</td>\n    </tr>\n    <tr>\n      <th>7</th>\n      <td>7220195662</td>\n      <td>https://hudsonvalley.craigslist.org/cto/d/poug...</td>\n      <td>hudson valley</td>\n      <td>https://hudsonvalley.craigslist.org</td>\n      <td>15995</td>\n      <td>NaN</td>\n      <td>NaN</td>\n      <td>NaN</td>\n      <td>NaN</td>\n      <td>NaN</td>\n      <td>...</td>\n      <td>NaN</td>\n      <td>NaN</td>\n      <td>NaN</td>\n      <td>NaN</td>\n      <td>NaN</td>\n      <td>NaN</td>\n      <td>ny</td>\n      <td>NaN</td>\n      <td>NaN</td>\n      <td>NaN</td>\n    </tr>\n    <tr>\n      <th>8</th>\n      <td>7209064557</td>\n      <td>https://medford.craigslist.org/cto/d/grants-pa...</td>\n      <td>medford-ashland</td>\n      <td>https://medford.craigslist.org</td>\n      <td>5000</td>\n      <td>NaN</td>\n      <td>NaN</td>\n      <td>NaN</td>\n      <td>NaN</td>\n      <td>NaN</td>\n      <td>...</td>\n      <td>NaN</td>\n      <td>NaN</td>\n      <td>NaN</td>\n      <td>NaN</td>\n      <td>NaN</td>\n      <td>NaN</td>\n      <td>or</td>\n      <td>NaN</td>\n      <td>NaN</td>\n      <td>NaN</td>\n    </tr>\n    <tr>\n      <th>9</th>\n      <td>7219485069</td>\n      <td>https://erie.craigslist.org/cto/d/erie-2012-su...</td>\n      <td>erie</td>\n      <td>https://erie.craigslist.org</td>\n      <td>3000</td>\n      <td>NaN</td>\n      <td>NaN</td>\n      <td>NaN</td>\n      <td>NaN</td>\n      <td>NaN</td>\n      <td>...</td>\n      <td>NaN</td>\n      <td>NaN</td>\n      <td>NaN</td>\n      <td>NaN</td>\n      <td>NaN</td>\n      <td>NaN</td>\n      <td>pa</td>\n      <td>NaN</td>\n      <td>NaN</td>\n      <td>NaN</td>\n    </tr>\n  </tbody>\n</table>\n<p>10 rows × 26 columns</p>\n</div>"
     },
     "metadata": {},
     "execution_count": 27
    }
   ],
   "source": [
    "raw_data.head(10)"
   ]
  },
  {
   "cell_type": "code",
   "execution_count": 7,
   "metadata": {},
   "outputs": [
    {
     "output_type": "stream",
     "name": "stdout",
     "text": [
      "<class 'pandas.core.frame.DataFrame'>\nRangeIndex: 426880 entries, 0 to 426879\nData columns (total 26 columns):\n #   Column        Non-Null Count   Dtype  \n---  ------        --------------   -----  \n 0   id            426880 non-null  int64  \n 1   url           426880 non-null  object \n 2   region        426880 non-null  object \n 3   region_url    426880 non-null  object \n 4   price         426880 non-null  int64  \n 5   year          425675 non-null  float64\n 6   manufacturer  409234 non-null  object \n 7   model         421603 non-null  object \n 8   condition     252776 non-null  object \n 9   cylinders     249202 non-null  object \n 10  fuel          423867 non-null  object \n 11  odometer      422480 non-null  float64\n 12  title_status  418638 non-null  object \n 13  transmission  424324 non-null  object \n 14  VIN           265838 non-null  object \n 15  drive         296313 non-null  object \n 16  size          120519 non-null  object \n 17  type          334022 non-null  object \n 18  paint_color   296677 non-null  object \n 19  image_url     426812 non-null  object \n 20  description   426810 non-null  object \n 21  county        0 non-null       float64\n 22  state         426880 non-null  object \n 23  lat           420331 non-null  float64\n 24  long          420331 non-null  float64\n 25  posting_date  426812 non-null  object \ndtypes: float64(5), int64(2), object(19)\nmemory usage: 84.7+ MB\nCPU times: user 224 ms, sys: 5.07 ms, total: 229 ms\nWall time: 229 ms\n"
     ]
    }
   ],
   "source": [
    "%%time\n",
    "raw_data.info() # get the information breakdown of the data"
   ]
  },
  {
   "source": [
    "## Initial Notes\n",
    "1. The data shows a number of features that contain null values.\n",
    "2. There are a number of features that are not required for modelling"
   ],
   "cell_type": "markdown",
   "metadata": {}
  },
  {
   "cell_type": "code",
   "execution_count": 29,
   "metadata": {},
   "outputs": [],
   "source": [
    "#drop all columns not required for modelling \n",
    "data_1 = raw_data.drop(columns=['id', 'url','region_url','VIN', 'county', 'lat','long', 'posting_date', 'image_url', 'description'])"
   ]
  },
  {
   "cell_type": "code",
   "execution_count": 31,
   "metadata": {},
   "outputs": [
    {
     "output_type": "execute_result",
     "data": {
      "text/plain": [
       "                Null         %\n",
       "size          306361  0.717675\n",
       "cylinders     177678  0.416225\n",
       "condition     174104  0.407852\n",
       "drive         130567  0.305863\n",
       "paint_color   130203  0.305011\n",
       "type           92858  0.217527\n",
       "manufacturer   17646  0.041337\n",
       "title_status    8242  0.019308\n",
       "model           5277  0.012362\n",
       "odometer        4400  0.010307\n",
       "fuel            3013  0.007058\n",
       "transmission    2556  0.005988\n",
       "year            1205  0.002823\n",
       "region             0  0.000000\n",
       "price              0  0.000000\n",
       "state              0  0.000000"
      ],
      "text/html": "<div>\n<style scoped>\n    .dataframe tbody tr th:only-of-type {\n        vertical-align: middle;\n    }\n\n    .dataframe tbody tr th {\n        vertical-align: top;\n    }\n\n    .dataframe thead th {\n        text-align: right;\n    }\n</style>\n<table border=\"1\" class=\"dataframe\">\n  <thead>\n    <tr style=\"text-align: right;\">\n      <th></th>\n      <th>Null</th>\n      <th>%</th>\n    </tr>\n  </thead>\n  <tbody>\n    <tr>\n      <th>size</th>\n      <td>306361</td>\n      <td>0.717675</td>\n    </tr>\n    <tr>\n      <th>cylinders</th>\n      <td>177678</td>\n      <td>0.416225</td>\n    </tr>\n    <tr>\n      <th>condition</th>\n      <td>174104</td>\n      <td>0.407852</td>\n    </tr>\n    <tr>\n      <th>drive</th>\n      <td>130567</td>\n      <td>0.305863</td>\n    </tr>\n    <tr>\n      <th>paint_color</th>\n      <td>130203</td>\n      <td>0.305011</td>\n    </tr>\n    <tr>\n      <th>type</th>\n      <td>92858</td>\n      <td>0.217527</td>\n    </tr>\n    <tr>\n      <th>manufacturer</th>\n      <td>17646</td>\n      <td>0.041337</td>\n    </tr>\n    <tr>\n      <th>title_status</th>\n      <td>8242</td>\n      <td>0.019308</td>\n    </tr>\n    <tr>\n      <th>model</th>\n      <td>5277</td>\n      <td>0.012362</td>\n    </tr>\n    <tr>\n      <th>odometer</th>\n      <td>4400</td>\n      <td>0.010307</td>\n    </tr>\n    <tr>\n      <th>fuel</th>\n      <td>3013</td>\n      <td>0.007058</td>\n    </tr>\n    <tr>\n      <th>transmission</th>\n      <td>2556</td>\n      <td>0.005988</td>\n    </tr>\n    <tr>\n      <th>year</th>\n      <td>1205</td>\n      <td>0.002823</td>\n    </tr>\n    <tr>\n      <th>region</th>\n      <td>0</td>\n      <td>0.000000</td>\n    </tr>\n    <tr>\n      <th>price</th>\n      <td>0</td>\n      <td>0.000000</td>\n    </tr>\n    <tr>\n      <th>state</th>\n      <td>0</td>\n      <td>0.000000</td>\n    </tr>\n  </tbody>\n</table>\n</div>"
     },
     "metadata": {},
     "execution_count": 31
    }
   ],
   "source": [
    "#count up the number of nulls \n",
    "\n",
    "null_check = data_1.isnull().sum()\n",
    "null_check = pd.DataFrame(null_check, columns=[\"Null\"])\n",
    "total = len(raw_data)\n",
    "null_check['%'] = pd.DataFrame(null_check['Null']/total)\n",
    "null_check.sort_values('%',ascending=False)\n"
   ]
  },
  {
   "cell_type": "code",
   "execution_count": 36,
   "metadata": {},
   "outputs": [
    {
     "output_type": "execute_result",
     "data": {
      "text/plain": [
       "                Null         %\n",
       "size          298050  0.698206\n",
       "cylinders     172351  0.403746\n",
       "condition     166738  0.390597\n",
       "drive         127627  0.298976\n",
       "paint_color   127026  0.297568\n",
       "type           91314  0.213910\n",
       "manufacturer   16039  0.037573\n",
       "title_status    6809  0.015951\n",
       "model           5179  0.012132\n",
       "region             0  0.000000\n",
       "price              0  0.000000\n",
       "year               0  0.000000\n",
       "fuel               0  0.000000\n",
       "odometer           0  0.000000\n",
       "transmission       0  0.000000\n",
       "state              0  0.000000"
      ],
      "text/html": "<div>\n<style scoped>\n    .dataframe tbody tr th:only-of-type {\n        vertical-align: middle;\n    }\n\n    .dataframe tbody tr th {\n        vertical-align: top;\n    }\n\n    .dataframe thead th {\n        text-align: right;\n    }\n</style>\n<table border=\"1\" class=\"dataframe\">\n  <thead>\n    <tr style=\"text-align: right;\">\n      <th></th>\n      <th>Null</th>\n      <th>%</th>\n    </tr>\n  </thead>\n  <tbody>\n    <tr>\n      <th>size</th>\n      <td>298050</td>\n      <td>0.698206</td>\n    </tr>\n    <tr>\n      <th>cylinders</th>\n      <td>172351</td>\n      <td>0.403746</td>\n    </tr>\n    <tr>\n      <th>condition</th>\n      <td>166738</td>\n      <td>0.390597</td>\n    </tr>\n    <tr>\n      <th>drive</th>\n      <td>127627</td>\n      <td>0.298976</td>\n    </tr>\n    <tr>\n      <th>paint_color</th>\n      <td>127026</td>\n      <td>0.297568</td>\n    </tr>\n    <tr>\n      <th>type</th>\n      <td>91314</td>\n      <td>0.213910</td>\n    </tr>\n    <tr>\n      <th>manufacturer</th>\n      <td>16039</td>\n      <td>0.037573</td>\n    </tr>\n    <tr>\n      <th>title_status</th>\n      <td>6809</td>\n      <td>0.015951</td>\n    </tr>\n    <tr>\n      <th>model</th>\n      <td>5179</td>\n      <td>0.012132</td>\n    </tr>\n    <tr>\n      <th>region</th>\n      <td>0</td>\n      <td>0.000000</td>\n    </tr>\n    <tr>\n      <th>price</th>\n      <td>0</td>\n      <td>0.000000</td>\n    </tr>\n    <tr>\n      <th>year</th>\n      <td>0</td>\n      <td>0.000000</td>\n    </tr>\n    <tr>\n      <th>fuel</th>\n      <td>0</td>\n      <td>0.000000</td>\n    </tr>\n    <tr>\n      <th>odometer</th>\n      <td>0</td>\n      <td>0.000000</td>\n    </tr>\n    <tr>\n      <th>transmission</th>\n      <td>0</td>\n      <td>0.000000</td>\n    </tr>\n    <tr>\n      <th>state</th>\n      <td>0</td>\n      <td>0.000000</td>\n    </tr>\n  </tbody>\n</table>\n</div>"
     },
     "metadata": {},
     "execution_count": 36
    }
   ],
   "source": [
    "#removing the rows that are missing <= 10% of the over data \n",
    "data_2 = data_1.dropna(subset=['year','transmission', 'fuel', 'odometer'])\n",
    "null_check_2 = data_2.isnull().sum()\n",
    "null_check_2 = pd.DataFrame(null_check_2, columns=[\"Null\"])\n",
    "total = len(raw_data)\n",
    "null_check_2['%'] = pd.DataFrame(null_check_2['Null']/total)\n",
    "null_check_2.sort_values('%',ascending=False)"
   ]
  },
  {
   "cell_type": "code",
   "execution_count": 39,
   "metadata": {},
   "outputs": [
    {
     "output_type": "execute_result",
     "data": {
      "text/plain": [
       "full-size      63100\n",
       "mid-size       34332\n",
       "compact        19018\n",
       "sub-compact     3051\n",
       "Name: size, dtype: int64"
      ]
     },
     "metadata": {},
     "execution_count": 39
    }
   ],
   "source": [
    "# check the catigorical type of data\n",
    "data_2['size'].value_counts()"
   ]
  },
  {
   "cell_type": "code",
   "execution_count": 40,
   "metadata": {},
   "outputs": [
    {
     "output_type": "execute_result",
     "data": {
      "text/plain": [
       "good         121235\n",
       "excellent     99731\n",
       "like new      21178\n",
       "fair           6769\n",
       "new            1299\n",
       "salvage         601\n",
       "Name: condition, dtype: int64"
      ]
     },
     "metadata": {},
     "execution_count": 40
    }
   ],
   "source": [
    "data_2['condition'].value_counts()"
   ]
  },
  {
   "cell_type": "code",
   "execution_count": 41,
   "metadata": {},
   "outputs": [
    {
     "output_type": "execute_result",
     "data": {
      "text/plain": [
       "4wd    129307\n",
       "fwd    102848\n",
       "rwd     57769\n",
       "Name: drive, dtype: int64"
      ]
     },
     "metadata": {},
     "execution_count": 41
    }
   ],
   "source": [
    "data_2['drive'].value_counts()"
   ]
  },
  {
   "cell_type": "code",
   "execution_count": 42,
   "metadata": {},
   "outputs": [
    {
     "output_type": "execute_result",
     "data": {
      "text/plain": [
       "white     77475\n",
       "black     61485\n",
       "silver    42101\n",
       "blue      30667\n",
       "red       29919\n",
       "grey      23903\n",
       "green      7267\n",
       "brown      6510\n",
       "custom     6508\n",
       "yellow     2068\n",
       "orange     1945\n",
       "purple      677\n",
       "Name: paint_color, dtype: int64"
      ]
     },
     "metadata": {},
     "execution_count": 42
    }
   ],
   "source": [
    "data_2['paint_color'].value_counts()"
   ]
  },
  {
   "cell_type": "code",
   "execution_count": 43,
   "metadata": {},
   "outputs": [
    {
     "output_type": "execute_result",
     "data": {
      "text/plain": [
       "sedan          84924\n",
       "SUV            75190\n",
       "pickup         42112\n",
       "truck          35148\n",
       "other          21255\n",
       "coupe          18885\n",
       "hatchback      16402\n",
       "wagon          10534\n",
       "van             8315\n",
       "convertible     7629\n",
       "mini-van        4717\n",
       "offroad          609\n",
       "bus              517\n",
       "Name: type, dtype: int64"
      ]
     },
     "metadata": {},
     "execution_count": 43
    }
   ],
   "source": [
    "data_2['type'].value_counts()"
   ]
  },
  {
   "cell_type": "code",
   "execution_count": 44,
   "metadata": {},
   "outputs": [
    {
     "output_type": "execute_result",
     "data": {
      "text/plain": [
       "ford               69601\n",
       "chevrolet          53910\n",
       "toyota             33383\n",
       "honda              20874\n",
       "jeep               18651\n",
       "nissan             18521\n",
       "ram                18100\n",
       "gmc                16417\n",
       "bmw                14562\n",
       "dodge              13456\n",
       "mercedes-benz      11520\n",
       "hyundai            10125\n",
       "subaru              9346\n",
       "volkswagen          9212\n",
       "kia                 8296\n",
       "lexus               8070\n",
       "audi                7481\n",
       "cadillac            6833\n",
       "acura               5914\n",
       "chrysler            5887\n",
       "buick               5415\n",
       "mazda               5352\n",
       "infiniti            4751\n",
       "lincoln             4150\n",
       "volvo               3352\n",
       "mitsubishi          3202\n",
       "mini                2356\n",
       "pontiac             2270\n",
       "rover               2082\n",
       "jaguar              1935\n",
       "porsche             1352\n",
       "mercury             1183\n",
       "saturn              1077\n",
       "alfa-romeo           888\n",
       "tesla                865\n",
       "fiat                 784\n",
       "harley-davidson      135\n",
       "ferrari               93\n",
       "datsun                63\n",
       "aston-martin          24\n",
       "land rover            21\n",
       "morgan                 3\n",
       "Name: manufacturer, dtype: int64"
      ]
     },
     "metadata": {},
     "execution_count": 44
    }
   ],
   "source": [
    "data_2['manufacturer'].value_counts()"
   ]
  },
  {
   "cell_type": "code",
   "execution_count": 46,
   "metadata": {},
   "outputs": [
    {
     "output_type": "execute_result",
     "data": {
      "text/plain": [
       "clean         397362\n",
       "rebuilt         7083\n",
       "salvage         3863\n",
       "lien            1422\n",
       "missing          814\n",
       "parts only       198\n",
       "Name: title_status, dtype: int64"
      ]
     },
     "metadata": {},
     "execution_count": 46
    }
   ],
   "source": [
    "data_2['title_status'].value_counts()"
   ]
  },
  {
   "cell_type": "code",
   "execution_count": 47,
   "metadata": {},
   "outputs": [
    {
     "output_type": "execute_result",
     "data": {
      "text/plain": [
       "f-150                        7814\n",
       "silverado 1500               5009\n",
       "1500                         4156\n",
       "camry                        3064\n",
       "silverado                    2948\n",
       "                             ... \n",
       "f-350sd limited                 1\n",
       "gl-class 5.5l                   1\n",
       "series lll                      1\n",
       "echosport                       1\n",
       "e150 super duty passenger       1\n",
       "Name: model, Length: 28539, dtype: int64"
      ]
     },
     "metadata": {},
     "execution_count": 47
    }
   ],
   "source": [
    "data_2['model'].value_counts()"
   ]
  },
  {
   "cell_type": "code",
   "execution_count": 48,
   "metadata": {},
   "outputs": [
    {
     "output_type": "execute_result",
     "data": {
      "text/plain": [
       "columbus                   3596\n",
       "jacksonville               3504\n",
       "spokane / coeur d'alene    2975\n",
       "tulsa                      2965\n",
       "baltimore                  2962\n",
       "                           ... \n",
       "meridian                     27\n",
       "southwest MS                 14\n",
       "kansas city                  11\n",
       "fort smith, AR                9\n",
       "west virginia (old)           8\n",
       "Name: region, Length: 404, dtype: int64"
      ]
     },
     "metadata": {},
     "execution_count": 48
    }
   ],
   "source": [
    "data_2['region'].value_counts()"
   ]
  },
  {
   "cell_type": "code",
   "execution_count": 49,
   "metadata": {},
   "outputs": [
    {
     "output_type": "execute_result",
     "data": {
      "text/plain": [
       "gas         350528\n",
       "other        30526\n",
       "diesel       29699\n",
       "hybrid        5127\n",
       "electric      1671\n",
       "Name: fuel, dtype: int64"
      ]
     },
     "metadata": {},
     "execution_count": 49
    }
   ],
   "source": [
    "data_2['fuel'].value_counts()"
   ]
  },
  {
   "cell_type": "code",
   "execution_count": 50,
   "metadata": {},
   "outputs": [
    {
     "output_type": "execute_result",
     "data": {
      "text/plain": [
       "automatic    330152\n",
       "other         62551\n",
       "manual        24848\n",
       "Name: transmission, dtype: int64"
      ]
     },
     "metadata": {},
     "execution_count": 50
    }
   ],
   "source": [
    "data_2['transmission'].value_counts()"
   ]
  },
  {
   "cell_type": "code",
   "execution_count": 51,
   "metadata": {},
   "outputs": [
    {
     "output_type": "execute_result",
     "data": {
      "text/plain": [
       "ca    49200\n",
       "fl    27830\n",
       "tx    22539\n",
       "ny    19196\n",
       "oh    17460\n",
       "mi    16826\n",
       "or    16542\n",
       "nc    14711\n",
       "pa    13429\n",
       "wa    13162\n",
       "wi    11236\n",
       "tn    10973\n",
       "co    10656\n",
       "va    10466\n",
       "il    10209\n",
       "nj     9361\n",
       "id     8916\n",
       "az     8460\n",
       "ia     8111\n",
       "ma     8054\n",
       "mn     7657\n",
       "ga     6898\n",
       "ok     6577\n",
       "mt     6213\n",
       "sc     6152\n",
       "ks     6134\n",
       "in     5701\n",
       "ct     5161\n",
       "al     4806\n",
       "md     4760\n",
       "nm     4359\n",
       "mo     4252\n",
       "ky     4119\n",
       "ar     4027\n",
       "ak     3414\n",
       "la     3161\n",
       "nv     3104\n",
       "nh     2961\n",
       "me     2934\n",
       "dc     2883\n",
       "hi     2732\n",
       "vt     2475\n",
       "ri     2314\n",
       "sd     1295\n",
       "ut     1139\n",
       "wv     1049\n",
       "ms      998\n",
       "ne      974\n",
       "de      948\n",
       "wy      607\n",
       "nd      410\n",
       "Name: state, dtype: int64"
      ]
     },
     "metadata": {},
     "execution_count": 51
    }
   ],
   "source": [
    "data_2['state'].value_counts()"
   ]
  },
  {
   "source": [
    "## Notes \n",
    "1. fuel has 30k records  classed as other. Unable to know or predict the fuel type so these row will be removed\n",
    "2. Transmission as ~62k records classed as other. Unable to know or predict the transamission type so these rows will be removed. "
   ],
   "cell_type": "markdown",
   "metadata": {}
  },
  {
   "cell_type": "code",
   "execution_count": null,
   "metadata": {},
   "outputs": [],
   "source": []
  }
 ]
}