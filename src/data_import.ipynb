{
 "metadata": {
  "language_info": {
   "codemirror_mode": {
    "name": "ipython",
    "version": 3
   },
   "file_extension": ".py",
   "mimetype": "text/x-python",
   "name": "python",
   "nbconvert_exporter": "python",
   "pygments_lexer": "ipython3",
   "version": "3.9.5"
  },
  "orig_nbformat": 4,
  "kernelspec": {
   "name": "python3",
   "display_name": "Python 3.9.5 64-bit ('NCI_1': conda)"
  },
  "interpreter": {
   "hash": "7b187336c19c9e85c247d6c6e3e3cad294591fae144eb330f64124e413af1302"
  }
 },
 "nbformat": 4,
 "nbformat_minor": 2,
 "cells": [
  {
   "source": [
    "# Data Import of Used Cars "
   ],
   "cell_type": "markdown",
   "metadata": {}
  },
  {
   "cell_type": "code",
   "execution_count": 6,
   "metadata": {},
   "outputs": [
    {
     "output_type": "stream",
     "name": "stdout",
     "text": [
      "Warning: Your Kaggle API key is readable by other users on this system! To fix this, you can run 'chmod 600 /Users/marcofoley/.kaggle/kaggle.json'\n"
     ]
    }
   ],
   "source": [
    "import pandas as pd \n",
    "import numpy as np \n",
    "import sys \n",
    "sys.path.append(\".\")\n",
    "import matplotlib.pyplot as plt \n",
    "from kaggle import api_client\n",
    "from zipfile import ZipFile\n",
    "from kaggle.api.kaggle_api_extended import KaggleApi\n"
   ]
  },
  {
   "cell_type": "code",
   "execution_count": 5,
   "metadata": {},
   "outputs": [
    {
     "output_type": "stream",
     "name": "stdout",
     "text": [
      "Warning: Your Kaggle API key is readable by other users on this system! To fix this, you can run 'chmod 600 /Users/marcofoley/.kaggle/kaggle.json'\n"
     ]
    }
   ],
   "source": [
    "# source data \n",
    "api_client = KaggleApi()\n",
    "api_client.authenticate()"
   ]
  },
  {
   "cell_type": "code",
   "execution_count": 3,
   "metadata": {},
   "outputs": [
    {
     "output_type": "stream",
     "name": "stdout",
     "text": [
      "Warning: Your Kaggle API key is readable by other users on this system! To fix this, you can run 'chmod 600 /Users/marcofoley/.kaggle/kaggle.json'\n",
      "Downloading craigslist-carstrucks-data.zip to ../data\n",
      " 99%|███████████████████████████████████████▌| 260M/262M [00:09<00:00, 30.6MB/s]\n",
      "100%|████████████████████████████████████████| 262M/262M [00:09<00:00, 29.2MB/s]\n"
     ]
    }
   ],
   "source": [
    "#download the data directly from kaggle and store in the data folder. \n",
    "\n",
    "!kaggle datasets download -d 'austinreese/craigslist-carstrucks-data' -p '../data'"
   ]
  },
  {
   "cell_type": "code",
   "execution_count": 7,
   "metadata": {},
   "outputs": [],
   "source": [
    "with ZipFile('../data/craigslist-carstrucks-data.zip', 'r') as zip:\n",
    "        zip.extractall('../data')"
   ]
  },
  {
   "cell_type": "code",
   "execution_count": null,
   "metadata": {},
   "outputs": [],
   "source": []
  }
 ]
}